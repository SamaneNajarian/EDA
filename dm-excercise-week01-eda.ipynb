{
 "cells": [
  {
   "cell_type": "markdown",
   "id": "81146fb1",
   "metadata": {
    "_cell_guid": "b1076dfc-b9ad-4769-8c92-a6c4dae69d19",
    "_uuid": "8f2839f25d086af736a60e9eeb907d3b93b6e0e5",
    "papermill": {
     "duration": 0.00999,
     "end_time": "2025-05-09T07:56:42.002264",
     "exception": false,
     "start_time": "2025-05-09T07:56:41.992274",
     "status": "completed"
    },
    "tags": []
   },
   "source": [
    "Go to this link: https://www.kaggle.com/competitions/DontGetKicked/data.  \n",
    "\n",
    "Use the 'training.csv' dataset and read the 'Carvana_Data_Dictionary.txt' for metadata.You can use the below snippet of code to read the training dataset. After reading the raw training dataset into a DataFrame, it should have 72,983 rows and 34 columns."
   ]
  },
  {
   "cell_type": "code",
   "execution_count": 1,
   "id": "5fc40c2b",
   "metadata": {
    "execution": {
     "iopub.execute_input": "2025-05-09T07:56:42.023155Z",
     "iopub.status.busy": "2025-05-09T07:56:42.022765Z",
     "iopub.status.idle": "2025-05-09T07:56:54.011561Z",
     "shell.execute_reply": "2025-05-09T07:56:54.010244Z"
    },
    "papermill": {
     "duration": 12.001859,
     "end_time": "2025-05-09T07:56:54.013915",
     "exception": false,
     "start_time": "2025-05-09T07:56:42.012056",
     "status": "completed"
    },
    "tags": []
   },
   "outputs": [
    {
     "name": "stdout",
     "output_type": "stream",
     "text": [
      "Collecting scorecardbundle\r\n",
      "  Downloading scorecardbundle-1.2.2-py3-none-any.whl.metadata (1.4 kB)\r\n",
      "Requirement already satisfied: numpy in /opt/conda/lib/python3.10/site-packages (from scorecardbundle) (1.26.4)\r\n",
      "Requirement already satisfied: scipy in /opt/conda/lib/python3.10/site-packages (from scorecardbundle) (1.11.4)\r\n",
      "Requirement already satisfied: pandas in /opt/conda/lib/python3.10/site-packages (from scorecardbundle) (2.2.1)\r\n",
      "Requirement already satisfied: matplotlib in /opt/conda/lib/python3.10/site-packages (from scorecardbundle) (3.7.5)\r\n",
      "Requirement already satisfied: scikit-learn in /opt/conda/lib/python3.10/site-packages (from scorecardbundle) (1.2.2)\r\n",
      "Requirement already satisfied: contourpy>=1.0.1 in /opt/conda/lib/python3.10/site-packages (from matplotlib->scorecardbundle) (1.2.0)\r\n",
      "Requirement already satisfied: cycler>=0.10 in /opt/conda/lib/python3.10/site-packages (from matplotlib->scorecardbundle) (0.12.1)\r\n",
      "Requirement already satisfied: fonttools>=4.22.0 in /opt/conda/lib/python3.10/site-packages (from matplotlib->scorecardbundle) (4.47.0)\r\n",
      "Requirement already satisfied: kiwisolver>=1.0.1 in /opt/conda/lib/python3.10/site-packages (from matplotlib->scorecardbundle) (1.4.5)\r\n",
      "Requirement already satisfied: packaging>=20.0 in /opt/conda/lib/python3.10/site-packages (from matplotlib->scorecardbundle) (21.3)\r\n",
      "Requirement already satisfied: pillow>=6.2.0 in /opt/conda/lib/python3.10/site-packages (from matplotlib->scorecardbundle) (9.5.0)\r\n",
      "Requirement already satisfied: pyparsing>=2.3.1 in /opt/conda/lib/python3.10/site-packages (from matplotlib->scorecardbundle) (3.1.1)\r\n",
      "Requirement already satisfied: python-dateutil>=2.7 in /opt/conda/lib/python3.10/site-packages (from matplotlib->scorecardbundle) (2.9.0.post0)\r\n",
      "Requirement already satisfied: pytz>=2020.1 in /opt/conda/lib/python3.10/site-packages (from pandas->scorecardbundle) (2023.3.post1)\r\n",
      "Requirement already satisfied: tzdata>=2022.7 in /opt/conda/lib/python3.10/site-packages (from pandas->scorecardbundle) (2023.4)\r\n",
      "Requirement already satisfied: joblib>=1.1.1 in /opt/conda/lib/python3.10/site-packages (from scikit-learn->scorecardbundle) (1.3.2)\r\n",
      "Requirement already satisfied: threadpoolctl>=2.0.0 in /opt/conda/lib/python3.10/site-packages (from scikit-learn->scorecardbundle) (3.2.0)\r\n",
      "Requirement already satisfied: six>=1.5 in /opt/conda/lib/python3.10/site-packages (from python-dateutil>=2.7->matplotlib->scorecardbundle) (1.16.0)\r\n",
      "Downloading scorecardbundle-1.2.2-py3-none-any.whl (28 kB)\r\n",
      "Installing collected packages: scorecardbundle\r\n",
      "Successfully installed scorecardbundle-1.2.2\r\n",
      "Note: you may need to restart the kernel to use updated packages.\n"
     ]
    }
   ],
   "source": [
    "pip install scorecardbundle"
   ]
  },
  {
   "cell_type": "code",
   "execution_count": 2,
   "id": "37b60c3b",
   "metadata": {
    "execution": {
     "iopub.execute_input": "2025-05-09T07:56:54.036185Z",
     "iopub.status.busy": "2025-05-09T07:56:54.035803Z",
     "iopub.status.idle": "2025-05-09T07:57:00.862706Z",
     "shell.execute_reply": "2025-05-09T07:57:00.861664Z"
    },
    "papermill": {
     "duration": 6.840812,
     "end_time": "2025-05-09T07:57:00.865052",
     "exception": false,
     "start_time": "2025-05-09T07:56:54.024240",
     "status": "completed"
    },
    "tags": []
   },
   "outputs": [],
   "source": [
    "import pandas as pd\n",
    "import numpy as np\n",
    "from ydata_profiling import ProfileReport\n",
    "from sklearn.model_selection import train_test_split\n",
    "from scipy.stats import chi2_contingency\n",
    "from scipy.stats import fisher_exact\n",
    "from sklearn.ensemble import IsolationForest\n",
    "from sklearn.preprocessing import StandardScaler, LabelEncoder\n",
    "from sklearn.impute import SimpleImputer\n",
    "from scipy.stats import kurtosis, skew\n",
    "from scorecardbundle.feature_discretization import ChiMerge as cm\n",
    "from sklearn.preprocessing import OneHotEncoder\n",
    "from sklearn.preprocessing import MinMaxScaler\n",
    "from sklearn.preprocessing import MinMaxScaler, StandardScaler, RobustScaler\n",
    "from sklearn.preprocessing import PowerTransformer\n",
    "import matplotlib.pyplot as plt"
   ]
  },
  {
   "cell_type": "code",
   "execution_count": 3,
   "id": "36f06f60",
   "metadata": {
    "execution": {
     "iopub.execute_input": "2025-05-09T07:57:00.888073Z",
     "iopub.status.busy": "2025-05-09T07:57:00.887518Z",
     "iopub.status.idle": "2025-05-09T07:57:00.892203Z",
     "shell.execute_reply": "2025-05-09T07:57:00.891140Z"
    },
    "papermill": {
     "duration": 0.017999,
     "end_time": "2025-05-09T07:57:00.894235",
     "exception": false,
     "start_time": "2025-05-09T07:57:00.876236",
     "status": "completed"
    },
    "tags": []
   },
   "outputs": [],
   "source": [
    "#pip install scorecardbundle"
   ]
  },
  {
   "cell_type": "code",
   "execution_count": 4,
   "id": "973311b6",
   "metadata": {
    "execution": {
     "iopub.execute_input": "2025-05-09T07:57:00.915977Z",
     "iopub.status.busy": "2025-05-09T07:57:00.915598Z",
     "iopub.status.idle": "2025-05-09T07:57:01.406843Z",
     "shell.execute_reply": "2025-05-09T07:57:01.405824Z"
    },
    "papermill": {
     "duration": 0.504643,
     "end_time": "2025-05-09T07:57:01.409018",
     "exception": false,
     "start_time": "2025-05-09T07:57:00.904375",
     "status": "completed"
    },
    "tags": []
   },
   "outputs": [
    {
     "data": {
      "text/html": [
       "<div>\n",
       "<style scoped>\n",
       "    .dataframe tbody tr th:only-of-type {\n",
       "        vertical-align: middle;\n",
       "    }\n",
       "\n",
       "    .dataframe tbody tr th {\n",
       "        vertical-align: top;\n",
       "    }\n",
       "\n",
       "    .dataframe thead th {\n",
       "        text-align: right;\n",
       "    }\n",
       "</style>\n",
       "<table border=\"1\" class=\"dataframe\">\n",
       "  <thead>\n",
       "    <tr style=\"text-align: right;\">\n",
       "      <th></th>\n",
       "      <th>RefId</th>\n",
       "      <th>IsBadBuy</th>\n",
       "      <th>PurchDate</th>\n",
       "      <th>Auction</th>\n",
       "      <th>VehYear</th>\n",
       "      <th>VehicleAge</th>\n",
       "      <th>Make</th>\n",
       "      <th>Model</th>\n",
       "      <th>Trim</th>\n",
       "      <th>SubModel</th>\n",
       "      <th>...</th>\n",
       "      <th>MMRCurrentRetailAveragePrice</th>\n",
       "      <th>MMRCurrentRetailCleanPrice</th>\n",
       "      <th>PRIMEUNIT</th>\n",
       "      <th>AUCGUART</th>\n",
       "      <th>BYRNO</th>\n",
       "      <th>VNZIP1</th>\n",
       "      <th>VNST</th>\n",
       "      <th>VehBCost</th>\n",
       "      <th>IsOnlineSale</th>\n",
       "      <th>WarrantyCost</th>\n",
       "    </tr>\n",
       "  </thead>\n",
       "  <tbody>\n",
       "    <tr>\n",
       "      <th>0</th>\n",
       "      <td>1</td>\n",
       "      <td>0</td>\n",
       "      <td>12/7/2009</td>\n",
       "      <td>ADESA</td>\n",
       "      <td>2006</td>\n",
       "      <td>3</td>\n",
       "      <td>MAZDA</td>\n",
       "      <td>MAZDA3</td>\n",
       "      <td>i</td>\n",
       "      <td>4D SEDAN I</td>\n",
       "      <td>...</td>\n",
       "      <td>11597.0</td>\n",
       "      <td>12409.0</td>\n",
       "      <td>NaN</td>\n",
       "      <td>NaN</td>\n",
       "      <td>21973</td>\n",
       "      <td>33619</td>\n",
       "      <td>FL</td>\n",
       "      <td>7100.0</td>\n",
       "      <td>0</td>\n",
       "      <td>1113</td>\n",
       "    </tr>\n",
       "    <tr>\n",
       "      <th>1</th>\n",
       "      <td>2</td>\n",
       "      <td>0</td>\n",
       "      <td>12/7/2009</td>\n",
       "      <td>ADESA</td>\n",
       "      <td>2004</td>\n",
       "      <td>5</td>\n",
       "      <td>DODGE</td>\n",
       "      <td>1500 RAM PICKUP 2WD</td>\n",
       "      <td>ST</td>\n",
       "      <td>QUAD CAB 4.7L SLT</td>\n",
       "      <td>...</td>\n",
       "      <td>11374.0</td>\n",
       "      <td>12791.0</td>\n",
       "      <td>NaN</td>\n",
       "      <td>NaN</td>\n",
       "      <td>19638</td>\n",
       "      <td>33619</td>\n",
       "      <td>FL</td>\n",
       "      <td>7600.0</td>\n",
       "      <td>0</td>\n",
       "      <td>1053</td>\n",
       "    </tr>\n",
       "    <tr>\n",
       "      <th>2</th>\n",
       "      <td>3</td>\n",
       "      <td>0</td>\n",
       "      <td>12/7/2009</td>\n",
       "      <td>ADESA</td>\n",
       "      <td>2005</td>\n",
       "      <td>4</td>\n",
       "      <td>DODGE</td>\n",
       "      <td>STRATUS V6</td>\n",
       "      <td>SXT</td>\n",
       "      <td>4D SEDAN SXT FFV</td>\n",
       "      <td>...</td>\n",
       "      <td>7146.0</td>\n",
       "      <td>8702.0</td>\n",
       "      <td>NaN</td>\n",
       "      <td>NaN</td>\n",
       "      <td>19638</td>\n",
       "      <td>33619</td>\n",
       "      <td>FL</td>\n",
       "      <td>4900.0</td>\n",
       "      <td>0</td>\n",
       "      <td>1389</td>\n",
       "    </tr>\n",
       "    <tr>\n",
       "      <th>3</th>\n",
       "      <td>4</td>\n",
       "      <td>0</td>\n",
       "      <td>12/7/2009</td>\n",
       "      <td>ADESA</td>\n",
       "      <td>2004</td>\n",
       "      <td>5</td>\n",
       "      <td>DODGE</td>\n",
       "      <td>NEON</td>\n",
       "      <td>SXT</td>\n",
       "      <td>4D SEDAN</td>\n",
       "      <td>...</td>\n",
       "      <td>4375.0</td>\n",
       "      <td>5518.0</td>\n",
       "      <td>NaN</td>\n",
       "      <td>NaN</td>\n",
       "      <td>19638</td>\n",
       "      <td>33619</td>\n",
       "      <td>FL</td>\n",
       "      <td>4100.0</td>\n",
       "      <td>0</td>\n",
       "      <td>630</td>\n",
       "    </tr>\n",
       "    <tr>\n",
       "      <th>4</th>\n",
       "      <td>5</td>\n",
       "      <td>0</td>\n",
       "      <td>12/7/2009</td>\n",
       "      <td>ADESA</td>\n",
       "      <td>2005</td>\n",
       "      <td>4</td>\n",
       "      <td>FORD</td>\n",
       "      <td>FOCUS</td>\n",
       "      <td>ZX3</td>\n",
       "      <td>2D COUPE ZX3</td>\n",
       "      <td>...</td>\n",
       "      <td>6739.0</td>\n",
       "      <td>7911.0</td>\n",
       "      <td>NaN</td>\n",
       "      <td>NaN</td>\n",
       "      <td>19638</td>\n",
       "      <td>33619</td>\n",
       "      <td>FL</td>\n",
       "      <td>4000.0</td>\n",
       "      <td>0</td>\n",
       "      <td>1020</td>\n",
       "    </tr>\n",
       "  </tbody>\n",
       "</table>\n",
       "<p>5 rows × 34 columns</p>\n",
       "</div>"
      ],
      "text/plain": [
       "   RefId  IsBadBuy  PurchDate Auction  VehYear  VehicleAge   Make  \\\n",
       "0      1         0  12/7/2009   ADESA     2006           3  MAZDA   \n",
       "1      2         0  12/7/2009   ADESA     2004           5  DODGE   \n",
       "2      3         0  12/7/2009   ADESA     2005           4  DODGE   \n",
       "3      4         0  12/7/2009   ADESA     2004           5  DODGE   \n",
       "4      5         0  12/7/2009   ADESA     2005           4   FORD   \n",
       "\n",
       "                 Model Trim           SubModel  ...  \\\n",
       "0               MAZDA3    i         4D SEDAN I  ...   \n",
       "1  1500 RAM PICKUP 2WD   ST  QUAD CAB 4.7L SLT  ...   \n",
       "2           STRATUS V6  SXT   4D SEDAN SXT FFV  ...   \n",
       "3                 NEON  SXT           4D SEDAN  ...   \n",
       "4                FOCUS  ZX3       2D COUPE ZX3  ...   \n",
       "\n",
       "  MMRCurrentRetailAveragePrice MMRCurrentRetailCleanPrice  PRIMEUNIT AUCGUART  \\\n",
       "0                      11597.0                    12409.0        NaN      NaN   \n",
       "1                      11374.0                    12791.0        NaN      NaN   \n",
       "2                       7146.0                     8702.0        NaN      NaN   \n",
       "3                       4375.0                     5518.0        NaN      NaN   \n",
       "4                       6739.0                     7911.0        NaN      NaN   \n",
       "\n",
       "   BYRNO VNZIP1 VNST VehBCost  IsOnlineSale  WarrantyCost  \n",
       "0  21973  33619   FL   7100.0             0          1113  \n",
       "1  19638  33619   FL   7600.0             0          1053  \n",
       "2  19638  33619   FL   4900.0             0          1389  \n",
       "3  19638  33619   FL   4100.0             0           630  \n",
       "4  19638  33619   FL   4000.0             0          1020  \n",
       "\n",
       "[5 rows x 34 columns]"
      ]
     },
     "execution_count": 4,
     "metadata": {},
     "output_type": "execute_result"
    }
   ],
   "source": [
    "df = pd.read_csv('/kaggle/input/DontGetKicked/training.csv')\n",
    "df.head()"
   ]
  },
  {
   "cell_type": "markdown",
   "id": "fe8a2fb5",
   "metadata": {
    "papermill": {
     "duration": 0.010237,
     "end_time": "2025-05-09T07:57:01.429838",
     "exception": false,
     "start_time": "2025-05-09T07:57:01.419601",
     "status": "completed"
    },
    "tags": []
   },
   "source": [
    "To perform a comprehensive Exploratory Data Analysis (EDA), follow these steps to thoroughly understand and analyze the data.  \n",
    "1. Review the 'Carvana_Data_Dictionary.txt' to understand the meaning of each column. Use `df.info()` to inspect the data types.\n",
    "2. Perform Exploratory Data Analysis (EDA) using `ydata_profiling` on the training dataset.\n",
    "3. Conduct a thorough analysis for deeper insights into the data:\n",
    "   - Check the minimum and maximum values of continuous fields to identify any out-of-range values.\n",
    "   - Examine categorical fields for inconsistent or unexpected categories.\n",
    "   - Analyze the distribution of continuous fields to detect potential outliers.\n",
    "   - Identify missing values in both categorical and continuous fields.\n",
    "   - Assess the normality of continuous fields.\n",
    "   - Review the distribution of categorical fields to spot rare categories (e.g., less than 1% in large datasets) or target imbalance.\n",
    "   - Compare the distribution of fields separated by target field classes.\n",
    "   - Evaluate the correlations between continuous fields using a heatmap to          visualize correlation values with chatGPT. \n",
    "4. Create a checklist for data cleaning and preparation based on the findings from univariate and multivariate assessments.\n"
   ]
  },
  {
   "cell_type": "code",
   "execution_count": 5,
   "id": "e72cfd71",
   "metadata": {
    "execution": {
     "iopub.execute_input": "2025-05-09T07:57:01.452684Z",
     "iopub.status.busy": "2025-05-09T07:57:01.451841Z",
     "iopub.status.idle": "2025-05-09T07:57:01.457838Z",
     "shell.execute_reply": "2025-05-09T07:57:01.456864Z"
    },
    "papermill": {
     "duration": 0.01949,
     "end_time": "2025-05-09T07:57:01.459738",
     "exception": false,
     "start_time": "2025-05-09T07:57:01.440248",
     "status": "completed"
    },
    "tags": []
   },
   "outputs": [
    {
     "data": {
      "text/plain": [
       "(72983, 34)"
      ]
     },
     "execution_count": 5,
     "metadata": {},
     "output_type": "execute_result"
    }
   ],
   "source": [
    "df.shape"
   ]
  },
  {
   "cell_type": "code",
   "execution_count": 6,
   "id": "77ba4f6c",
   "metadata": {
    "execution": {
     "iopub.execute_input": "2025-05-09T07:57:01.483484Z",
     "iopub.status.busy": "2025-05-09T07:57:01.483143Z",
     "iopub.status.idle": "2025-05-09T07:57:01.552710Z",
     "shell.execute_reply": "2025-05-09T07:57:01.551621Z"
    },
    "papermill": {
     "duration": 0.084029,
     "end_time": "2025-05-09T07:57:01.555021",
     "exception": false,
     "start_time": "2025-05-09T07:57:01.470992",
     "status": "completed"
    },
    "tags": []
   },
   "outputs": [
    {
     "name": "stdout",
     "output_type": "stream",
     "text": [
      "<class 'pandas.core.frame.DataFrame'>\n",
      "RangeIndex: 72983 entries, 0 to 72982\n",
      "Data columns (total 34 columns):\n",
      " #   Column                             Non-Null Count  Dtype  \n",
      "---  ------                             --------------  -----  \n",
      " 0   RefId                              72983 non-null  int64  \n",
      " 1   IsBadBuy                           72983 non-null  int64  \n",
      " 2   PurchDate                          72983 non-null  object \n",
      " 3   Auction                            72983 non-null  object \n",
      " 4   VehYear                            72983 non-null  int64  \n",
      " 5   VehicleAge                         72983 non-null  int64  \n",
      " 6   Make                               72983 non-null  object \n",
      " 7   Model                              72983 non-null  object \n",
      " 8   Trim                               70623 non-null  object \n",
      " 9   SubModel                           72975 non-null  object \n",
      " 10  Color                              72975 non-null  object \n",
      " 11  Transmission                       72974 non-null  object \n",
      " 12  WheelTypeID                        69814 non-null  float64\n",
      " 13  WheelType                          69809 non-null  object \n",
      " 14  VehOdo                             72983 non-null  int64  \n",
      " 15  Nationality                        72978 non-null  object \n",
      " 16  Size                               72978 non-null  object \n",
      " 17  TopThreeAmericanName               72978 non-null  object \n",
      " 18  MMRAcquisitionAuctionAveragePrice  72965 non-null  float64\n",
      " 19  MMRAcquisitionAuctionCleanPrice    72965 non-null  float64\n",
      " 20  MMRAcquisitionRetailAveragePrice   72965 non-null  float64\n",
      " 21  MMRAcquisitonRetailCleanPrice      72965 non-null  float64\n",
      " 22  MMRCurrentAuctionAveragePrice      72668 non-null  float64\n",
      " 23  MMRCurrentAuctionCleanPrice        72668 non-null  float64\n",
      " 24  MMRCurrentRetailAveragePrice       72668 non-null  float64\n",
      " 25  MMRCurrentRetailCleanPrice         72668 non-null  float64\n",
      " 26  PRIMEUNIT                          3419 non-null   object \n",
      " 27  AUCGUART                           3419 non-null   object \n",
      " 28  BYRNO                              72983 non-null  int64  \n",
      " 29  VNZIP1                             72983 non-null  int64  \n",
      " 30  VNST                               72983 non-null  object \n",
      " 31  VehBCost                           72983 non-null  float64\n",
      " 32  IsOnlineSale                       72983 non-null  int64  \n",
      " 33  WarrantyCost                       72983 non-null  int64  \n",
      "dtypes: float64(10), int64(9), object(15)\n",
      "memory usage: 18.9+ MB\n"
     ]
    }
   ],
   "source": [
    "df.info()"
   ]
  },
  {
   "cell_type": "markdown",
   "id": "a2f0589e",
   "metadata": {
    "papermill": {
     "duration": 0.010723,
     "end_time": "2025-05-09T07:57:01.576901",
     "exception": false,
     "start_time": "2025-05-09T07:57:01.566178",
     "status": "completed"
    },
    "tags": []
   },
   "source": [
    "**Note:** If you encounter an error related to 'numba' while running ydata_profiling, try the following command:"
   ]
  },
  {
   "cell_type": "code",
   "execution_count": 7,
   "id": "c6dca54e",
   "metadata": {
    "execution": {
     "iopub.execute_input": "2025-05-09T07:57:01.600285Z",
     "iopub.status.busy": "2025-05-09T07:57:01.599940Z",
     "iopub.status.idle": "2025-05-09T07:57:01.604130Z",
     "shell.execute_reply": "2025-05-09T07:57:01.603200Z"
    },
    "papermill": {
     "duration": 0.018463,
     "end_time": "2025-05-09T07:57:01.606095",
     "exception": false,
     "start_time": "2025-05-09T07:57:01.587632",
     "status": "completed"
    },
    "tags": []
   },
   "outputs": [],
   "source": [
    "#!pip install --upgrade numba pandas visions ydata_profiling"
   ]
  },
  {
   "cell_type": "code",
   "execution_count": 8,
   "id": "259aa3ee",
   "metadata": {
    "execution": {
     "iopub.execute_input": "2025-05-09T07:57:01.630344Z",
     "iopub.status.busy": "2025-05-09T07:57:01.629895Z",
     "iopub.status.idle": "2025-05-09T07:57:01.635472Z",
     "shell.execute_reply": "2025-05-09T07:57:01.634519Z"
    },
    "papermill": {
     "duration": 0.020407,
     "end_time": "2025-05-09T07:57:01.637444",
     "exception": false,
     "start_time": "2025-05-09T07:57:01.617037",
     "status": "completed"
    },
    "tags": []
   },
   "outputs": [],
   "source": [
    "#profile = ProfileReport(df, title=\"Car purchased at the Auction data EDA\", type_schema = {\"Auction\": \"categorical\",\n",
    " #                                                                                         \"Default\": \"categorical\",\n",
    "  #                                                                                        \"Make\": \"categorical\",\n",
    "   #                                                                                       \"Model\": \"categorical\",\n",
    "    #                                                                                      \"Trim\": \"categorical\",\n",
    "     #                                                                                     \"Submodel\": \"categorical\",\n",
    "      #                                                                                    \"Color\": \"categorical\",\n",
    "       #                                                                                   \"Transmission\": \"categorical\",\n",
    "        #                                                                                  \"WheelType\": \"categorical\",\n",
    "         #                                                                                \"Nationality\": \"categorical\",\n",
    "          #                                                                               \"Size\": \"categorical\",\n",
    "           #                                                                              \"TopThreeAmericanName\": \"categorical\",\n",
    "            #                                                                              \"PRIMEUNIT\": \"categorical\",\n",
    "             #                                                                             \"AUCGUART\": \"categorical\",\n",
    "              #                                                                            \"VNST\": \"categorical\"})\n",
    "#\n",
    "#profile.to_file(\"your_dataset_profile_report.html\")"
   ]
  },
  {
   "cell_type": "code",
   "execution_count": 9,
   "id": "1371d873",
   "metadata": {
    "execution": {
     "iopub.execute_input": "2025-05-09T07:57:01.660528Z",
     "iopub.status.busy": "2025-05-09T07:57:01.659874Z",
     "iopub.status.idle": "2025-05-09T07:57:01.671645Z",
     "shell.execute_reply": "2025-05-09T07:57:01.670540Z"
    },
    "papermill": {
     "duration": 0.025679,
     "end_time": "2025-05-09T07:57:01.673904",
     "exception": false,
     "start_time": "2025-05-09T07:57:01.648225",
     "status": "completed"
    },
    "tags": []
   },
   "outputs": [],
   "source": [
    "Filtered_df = df.copy()"
   ]
  },
  {
   "cell_type": "code",
   "execution_count": 10,
   "id": "7d7c9494",
   "metadata": {
    "execution": {
     "iopub.execute_input": "2025-05-09T07:57:01.697101Z",
     "iopub.status.busy": "2025-05-09T07:57:01.696696Z",
     "iopub.status.idle": "2025-05-09T07:57:01.725649Z",
     "shell.execute_reply": "2025-05-09T07:57:01.724666Z"
    },
    "papermill": {
     "duration": 0.043048,
     "end_time": "2025-05-09T07:57:01.727819",
     "exception": false,
     "start_time": "2025-05-09T07:57:01.684771",
     "status": "completed"
    },
    "tags": []
   },
   "outputs": [
    {
     "data": {
      "text/html": [
       "<div>\n",
       "<style scoped>\n",
       "    .dataframe tbody tr th:only-of-type {\n",
       "        vertical-align: middle;\n",
       "    }\n",
       "\n",
       "    .dataframe tbody tr th {\n",
       "        vertical-align: top;\n",
       "    }\n",
       "\n",
       "    .dataframe thead th {\n",
       "        text-align: right;\n",
       "    }\n",
       "</style>\n",
       "<table border=\"1\" class=\"dataframe\">\n",
       "  <thead>\n",
       "    <tr style=\"text-align: right;\">\n",
       "      <th></th>\n",
       "      <th>RefId</th>\n",
       "      <th>IsBadBuy</th>\n",
       "      <th>Auction</th>\n",
       "      <th>VehicleAge</th>\n",
       "      <th>Make</th>\n",
       "      <th>Color</th>\n",
       "      <th>Transmission</th>\n",
       "      <th>WheelType</th>\n",
       "      <th>VehOdo</th>\n",
       "      <th>Nationality</th>\n",
       "      <th>...</th>\n",
       "      <th>MMRAcquisitonRetailCleanPrice</th>\n",
       "      <th>MMRCurrentAuctionAveragePrice</th>\n",
       "      <th>MMRCurrentAuctionCleanPrice</th>\n",
       "      <th>MMRCurrentRetailAveragePrice</th>\n",
       "      <th>MMRCurrentRetailCleanPrice</th>\n",
       "      <th>PRIMEUNIT</th>\n",
       "      <th>AUCGUART</th>\n",
       "      <th>VehBCost</th>\n",
       "      <th>IsOnlineSale</th>\n",
       "      <th>WarrantyCost</th>\n",
       "    </tr>\n",
       "  </thead>\n",
       "  <tbody>\n",
       "    <tr>\n",
       "      <th>0</th>\n",
       "      <td>1</td>\n",
       "      <td>0</td>\n",
       "      <td>ADESA</td>\n",
       "      <td>3</td>\n",
       "      <td>MAZDA</td>\n",
       "      <td>RED</td>\n",
       "      <td>AUTO</td>\n",
       "      <td>Alloy</td>\n",
       "      <td>89046</td>\n",
       "      <td>OTHER ASIAN</td>\n",
       "      <td>...</td>\n",
       "      <td>13600.0</td>\n",
       "      <td>7451.0</td>\n",
       "      <td>8552.0</td>\n",
       "      <td>11597.0</td>\n",
       "      <td>12409.0</td>\n",
       "      <td>NaN</td>\n",
       "      <td>NaN</td>\n",
       "      <td>7100.0</td>\n",
       "      <td>0</td>\n",
       "      <td>1113</td>\n",
       "    </tr>\n",
       "    <tr>\n",
       "      <th>1</th>\n",
       "      <td>2</td>\n",
       "      <td>0</td>\n",
       "      <td>ADESA</td>\n",
       "      <td>5</td>\n",
       "      <td>DODGE</td>\n",
       "      <td>WHITE</td>\n",
       "      <td>AUTO</td>\n",
       "      <td>Alloy</td>\n",
       "      <td>93593</td>\n",
       "      <td>AMERICAN</td>\n",
       "      <td>...</td>\n",
       "      <td>12572.0</td>\n",
       "      <td>7456.0</td>\n",
       "      <td>9222.0</td>\n",
       "      <td>11374.0</td>\n",
       "      <td>12791.0</td>\n",
       "      <td>NaN</td>\n",
       "      <td>NaN</td>\n",
       "      <td>7600.0</td>\n",
       "      <td>0</td>\n",
       "      <td>1053</td>\n",
       "    </tr>\n",
       "    <tr>\n",
       "      <th>2</th>\n",
       "      <td>3</td>\n",
       "      <td>0</td>\n",
       "      <td>ADESA</td>\n",
       "      <td>4</td>\n",
       "      <td>DODGE</td>\n",
       "      <td>MAROON</td>\n",
       "      <td>AUTO</td>\n",
       "      <td>Covers</td>\n",
       "      <td>73807</td>\n",
       "      <td>AMERICAN</td>\n",
       "      <td>...</td>\n",
       "      <td>8457.0</td>\n",
       "      <td>4035.0</td>\n",
       "      <td>5557.0</td>\n",
       "      <td>7146.0</td>\n",
       "      <td>8702.0</td>\n",
       "      <td>NaN</td>\n",
       "      <td>NaN</td>\n",
       "      <td>4900.0</td>\n",
       "      <td>0</td>\n",
       "      <td>1389</td>\n",
       "    </tr>\n",
       "    <tr>\n",
       "      <th>3</th>\n",
       "      <td>4</td>\n",
       "      <td>0</td>\n",
       "      <td>ADESA</td>\n",
       "      <td>5</td>\n",
       "      <td>DODGE</td>\n",
       "      <td>SILVER</td>\n",
       "      <td>AUTO</td>\n",
       "      <td>Alloy</td>\n",
       "      <td>65617</td>\n",
       "      <td>AMERICAN</td>\n",
       "      <td>...</td>\n",
       "      <td>5690.0</td>\n",
       "      <td>1844.0</td>\n",
       "      <td>2646.0</td>\n",
       "      <td>4375.0</td>\n",
       "      <td>5518.0</td>\n",
       "      <td>NaN</td>\n",
       "      <td>NaN</td>\n",
       "      <td>4100.0</td>\n",
       "      <td>0</td>\n",
       "      <td>630</td>\n",
       "    </tr>\n",
       "    <tr>\n",
       "      <th>4</th>\n",
       "      <td>5</td>\n",
       "      <td>0</td>\n",
       "      <td>ADESA</td>\n",
       "      <td>4</td>\n",
       "      <td>FORD</td>\n",
       "      <td>SILVER</td>\n",
       "      <td>MANUAL</td>\n",
       "      <td>Covers</td>\n",
       "      <td>69367</td>\n",
       "      <td>AMERICAN</td>\n",
       "      <td>...</td>\n",
       "      <td>8707.0</td>\n",
       "      <td>3247.0</td>\n",
       "      <td>4384.0</td>\n",
       "      <td>6739.0</td>\n",
       "      <td>7911.0</td>\n",
       "      <td>NaN</td>\n",
       "      <td>NaN</td>\n",
       "      <td>4000.0</td>\n",
       "      <td>0</td>\n",
       "      <td>1020</td>\n",
       "    </tr>\n",
       "  </tbody>\n",
       "</table>\n",
       "<p>5 rows × 25 columns</p>\n",
       "</div>"
      ],
      "text/plain": [
       "   RefId  IsBadBuy Auction  VehicleAge   Make   Color Transmission WheelType  \\\n",
       "0      1         0   ADESA           3  MAZDA     RED         AUTO     Alloy   \n",
       "1      2         0   ADESA           5  DODGE   WHITE         AUTO     Alloy   \n",
       "2      3         0   ADESA           4  DODGE  MAROON         AUTO    Covers   \n",
       "3      4         0   ADESA           5  DODGE  SILVER         AUTO     Alloy   \n",
       "4      5         0   ADESA           4   FORD  SILVER       MANUAL    Covers   \n",
       "\n",
       "   VehOdo  Nationality  ... MMRAcquisitonRetailCleanPrice  \\\n",
       "0   89046  OTHER ASIAN  ...                       13600.0   \n",
       "1   93593     AMERICAN  ...                       12572.0   \n",
       "2   73807     AMERICAN  ...                        8457.0   \n",
       "3   65617     AMERICAN  ...                        5690.0   \n",
       "4   69367     AMERICAN  ...                        8707.0   \n",
       "\n",
       "  MMRCurrentAuctionAveragePrice  MMRCurrentAuctionCleanPrice  \\\n",
       "0                        7451.0                       8552.0   \n",
       "1                        7456.0                       9222.0   \n",
       "2                        4035.0                       5557.0   \n",
       "3                        1844.0                       2646.0   \n",
       "4                        3247.0                       4384.0   \n",
       "\n",
       "   MMRCurrentRetailAveragePrice  MMRCurrentRetailCleanPrice  PRIMEUNIT  \\\n",
       "0                       11597.0                     12409.0        NaN   \n",
       "1                       11374.0                     12791.0        NaN   \n",
       "2                        7146.0                      8702.0        NaN   \n",
       "3                        4375.0                      5518.0        NaN   \n",
       "4                        6739.0                      7911.0        NaN   \n",
       "\n",
       "   AUCGUART  VehBCost  IsOnlineSale  WarrantyCost  \n",
       "0       NaN    7100.0             0          1113  \n",
       "1       NaN    7600.0             0          1053  \n",
       "2       NaN    4900.0             0          1389  \n",
       "3       NaN    4100.0             0           630  \n",
       "4       NaN    4000.0             0          1020  \n",
       "\n",
       "[5 rows x 25 columns]"
      ]
     },
     "execution_count": 10,
     "metadata": {},
     "output_type": "execute_result"
    }
   ],
   "source": [
    "Filtered_df.drop(columns=['PurchDate','VehYear','Model','Trim','SubModel','WheelTypeID','BYRNO','VNZIP1','VNST'], inplace=True)\n",
    "Filtered_df.head()"
   ]
  },
  {
   "cell_type": "code",
   "execution_count": 11,
   "id": "7c643f16",
   "metadata": {
    "execution": {
     "iopub.execute_input": "2025-05-09T07:57:01.752257Z",
     "iopub.status.busy": "2025-05-09T07:57:01.751581Z",
     "iopub.status.idle": "2025-05-09T07:57:01.776366Z",
     "shell.execute_reply": "2025-05-09T07:57:01.775446Z"
    },
    "papermill": {
     "duration": 0.039294,
     "end_time": "2025-05-09T07:57:01.778398",
     "exception": false,
     "start_time": "2025-05-09T07:57:01.739104",
     "status": "completed"
    },
    "tags": []
   },
   "outputs": [
    {
     "data": {
      "text/html": [
       "<div>\n",
       "<style scoped>\n",
       "    .dataframe tbody tr th:only-of-type {\n",
       "        vertical-align: middle;\n",
       "    }\n",
       "\n",
       "    .dataframe tbody tr th {\n",
       "        vertical-align: top;\n",
       "    }\n",
       "\n",
       "    .dataframe thead th {\n",
       "        text-align: right;\n",
       "    }\n",
       "</style>\n",
       "<table border=\"1\" class=\"dataframe\">\n",
       "  <thead>\n",
       "    <tr style=\"text-align: right;\">\n",
       "      <th></th>\n",
       "      <th>IsBadBuy</th>\n",
       "      <th>Auction</th>\n",
       "      <th>VehicleAge</th>\n",
       "      <th>Make</th>\n",
       "      <th>Color</th>\n",
       "      <th>Transmission</th>\n",
       "      <th>WheelType</th>\n",
       "      <th>VehOdo</th>\n",
       "      <th>Nationality</th>\n",
       "      <th>Size</th>\n",
       "      <th>...</th>\n",
       "      <th>MMRAcquisitonRetailCleanPrice</th>\n",
       "      <th>MMRCurrentAuctionAveragePrice</th>\n",
       "      <th>MMRCurrentAuctionCleanPrice</th>\n",
       "      <th>MMRCurrentRetailAveragePrice</th>\n",
       "      <th>MMRCurrentRetailCleanPrice</th>\n",
       "      <th>PRIMEUNIT</th>\n",
       "      <th>AUCGUART</th>\n",
       "      <th>VehBCost</th>\n",
       "      <th>IsOnlineSale</th>\n",
       "      <th>WarrantyCost</th>\n",
       "    </tr>\n",
       "    <tr>\n",
       "      <th>RefId</th>\n",
       "      <th></th>\n",
       "      <th></th>\n",
       "      <th></th>\n",
       "      <th></th>\n",
       "      <th></th>\n",
       "      <th></th>\n",
       "      <th></th>\n",
       "      <th></th>\n",
       "      <th></th>\n",
       "      <th></th>\n",
       "      <th></th>\n",
       "      <th></th>\n",
       "      <th></th>\n",
       "      <th></th>\n",
       "      <th></th>\n",
       "      <th></th>\n",
       "      <th></th>\n",
       "      <th></th>\n",
       "      <th></th>\n",
       "      <th></th>\n",
       "      <th></th>\n",
       "    </tr>\n",
       "  </thead>\n",
       "  <tbody>\n",
       "    <tr>\n",
       "      <th>1</th>\n",
       "      <td>0</td>\n",
       "      <td>ADESA</td>\n",
       "      <td>3</td>\n",
       "      <td>MAZDA</td>\n",
       "      <td>RED</td>\n",
       "      <td>AUTO</td>\n",
       "      <td>Alloy</td>\n",
       "      <td>89046</td>\n",
       "      <td>OTHER ASIAN</td>\n",
       "      <td>MEDIUM</td>\n",
       "      <td>...</td>\n",
       "      <td>13600.0</td>\n",
       "      <td>7451.0</td>\n",
       "      <td>8552.0</td>\n",
       "      <td>11597.0</td>\n",
       "      <td>12409.0</td>\n",
       "      <td>NaN</td>\n",
       "      <td>NaN</td>\n",
       "      <td>7100.0</td>\n",
       "      <td>0</td>\n",
       "      <td>1113</td>\n",
       "    </tr>\n",
       "    <tr>\n",
       "      <th>2</th>\n",
       "      <td>0</td>\n",
       "      <td>ADESA</td>\n",
       "      <td>5</td>\n",
       "      <td>DODGE</td>\n",
       "      <td>WHITE</td>\n",
       "      <td>AUTO</td>\n",
       "      <td>Alloy</td>\n",
       "      <td>93593</td>\n",
       "      <td>AMERICAN</td>\n",
       "      <td>LARGE TRUCK</td>\n",
       "      <td>...</td>\n",
       "      <td>12572.0</td>\n",
       "      <td>7456.0</td>\n",
       "      <td>9222.0</td>\n",
       "      <td>11374.0</td>\n",
       "      <td>12791.0</td>\n",
       "      <td>NaN</td>\n",
       "      <td>NaN</td>\n",
       "      <td>7600.0</td>\n",
       "      <td>0</td>\n",
       "      <td>1053</td>\n",
       "    </tr>\n",
       "    <tr>\n",
       "      <th>3</th>\n",
       "      <td>0</td>\n",
       "      <td>ADESA</td>\n",
       "      <td>4</td>\n",
       "      <td>DODGE</td>\n",
       "      <td>MAROON</td>\n",
       "      <td>AUTO</td>\n",
       "      <td>Covers</td>\n",
       "      <td>73807</td>\n",
       "      <td>AMERICAN</td>\n",
       "      <td>MEDIUM</td>\n",
       "      <td>...</td>\n",
       "      <td>8457.0</td>\n",
       "      <td>4035.0</td>\n",
       "      <td>5557.0</td>\n",
       "      <td>7146.0</td>\n",
       "      <td>8702.0</td>\n",
       "      <td>NaN</td>\n",
       "      <td>NaN</td>\n",
       "      <td>4900.0</td>\n",
       "      <td>0</td>\n",
       "      <td>1389</td>\n",
       "    </tr>\n",
       "    <tr>\n",
       "      <th>4</th>\n",
       "      <td>0</td>\n",
       "      <td>ADESA</td>\n",
       "      <td>5</td>\n",
       "      <td>DODGE</td>\n",
       "      <td>SILVER</td>\n",
       "      <td>AUTO</td>\n",
       "      <td>Alloy</td>\n",
       "      <td>65617</td>\n",
       "      <td>AMERICAN</td>\n",
       "      <td>COMPACT</td>\n",
       "      <td>...</td>\n",
       "      <td>5690.0</td>\n",
       "      <td>1844.0</td>\n",
       "      <td>2646.0</td>\n",
       "      <td>4375.0</td>\n",
       "      <td>5518.0</td>\n",
       "      <td>NaN</td>\n",
       "      <td>NaN</td>\n",
       "      <td>4100.0</td>\n",
       "      <td>0</td>\n",
       "      <td>630</td>\n",
       "    </tr>\n",
       "    <tr>\n",
       "      <th>5</th>\n",
       "      <td>0</td>\n",
       "      <td>ADESA</td>\n",
       "      <td>4</td>\n",
       "      <td>FORD</td>\n",
       "      <td>SILVER</td>\n",
       "      <td>MANUAL</td>\n",
       "      <td>Covers</td>\n",
       "      <td>69367</td>\n",
       "      <td>AMERICAN</td>\n",
       "      <td>COMPACT</td>\n",
       "      <td>...</td>\n",
       "      <td>8707.0</td>\n",
       "      <td>3247.0</td>\n",
       "      <td>4384.0</td>\n",
       "      <td>6739.0</td>\n",
       "      <td>7911.0</td>\n",
       "      <td>NaN</td>\n",
       "      <td>NaN</td>\n",
       "      <td>4000.0</td>\n",
       "      <td>0</td>\n",
       "      <td>1020</td>\n",
       "    </tr>\n",
       "  </tbody>\n",
       "</table>\n",
       "<p>5 rows × 24 columns</p>\n",
       "</div>"
      ],
      "text/plain": [
       "       IsBadBuy Auction  VehicleAge   Make   Color Transmission WheelType  \\\n",
       "RefId                                                                       \n",
       "1             0   ADESA           3  MAZDA     RED         AUTO     Alloy   \n",
       "2             0   ADESA           5  DODGE   WHITE         AUTO     Alloy   \n",
       "3             0   ADESA           4  DODGE  MAROON         AUTO    Covers   \n",
       "4             0   ADESA           5  DODGE  SILVER         AUTO     Alloy   \n",
       "5             0   ADESA           4   FORD  SILVER       MANUAL    Covers   \n",
       "\n",
       "       VehOdo  Nationality         Size  ... MMRAcquisitonRetailCleanPrice  \\\n",
       "RefId                                    ...                                 \n",
       "1       89046  OTHER ASIAN       MEDIUM  ...                       13600.0   \n",
       "2       93593     AMERICAN  LARGE TRUCK  ...                       12572.0   \n",
       "3       73807     AMERICAN       MEDIUM  ...                        8457.0   \n",
       "4       65617     AMERICAN      COMPACT  ...                        5690.0   \n",
       "5       69367     AMERICAN      COMPACT  ...                        8707.0   \n",
       "\n",
       "       MMRCurrentAuctionAveragePrice  MMRCurrentAuctionCleanPrice  \\\n",
       "RefId                                                               \n",
       "1                             7451.0                       8552.0   \n",
       "2                             7456.0                       9222.0   \n",
       "3                             4035.0                       5557.0   \n",
       "4                             1844.0                       2646.0   \n",
       "5                             3247.0                       4384.0   \n",
       "\n",
       "       MMRCurrentRetailAveragePrice  MMRCurrentRetailCleanPrice  PRIMEUNIT  \\\n",
       "RefId                                                                        \n",
       "1                           11597.0                     12409.0        NaN   \n",
       "2                           11374.0                     12791.0        NaN   \n",
       "3                            7146.0                      8702.0        NaN   \n",
       "4                            4375.0                      5518.0        NaN   \n",
       "5                            6739.0                      7911.0        NaN   \n",
       "\n",
       "       AUCGUART  VehBCost  IsOnlineSale WarrantyCost  \n",
       "RefId                                                 \n",
       "1           NaN    7100.0             0         1113  \n",
       "2           NaN    7600.0             0         1053  \n",
       "3           NaN    4900.0             0         1389  \n",
       "4           NaN    4100.0             0          630  \n",
       "5           NaN    4000.0             0         1020  \n",
       "\n",
       "[5 rows x 24 columns]"
      ]
     },
     "execution_count": 11,
     "metadata": {},
     "output_type": "execute_result"
    }
   ],
   "source": [
    "Filtered_df .set_index('RefId', inplace=True)\n",
    "Filtered_df.head()"
   ]
  },
  {
   "cell_type": "code",
   "execution_count": 12,
   "id": "59649aa9",
   "metadata": {
    "execution": {
     "iopub.execute_input": "2025-05-09T07:57:01.802824Z",
     "iopub.status.busy": "2025-05-09T07:57:01.802462Z",
     "iopub.status.idle": "2025-05-09T07:57:02.260634Z",
     "shell.execute_reply": "2025-05-09T07:57:02.259579Z"
    },
    "papermill": {
     "duration": 0.47348,
     "end_time": "2025-05-09T07:57:02.263425",
     "exception": false,
     "start_time": "2025-05-09T07:57:01.789945",
     "status": "completed"
    },
    "tags": []
   },
   "outputs": [
    {
     "name": "stdout",
     "output_type": "stream",
     "text": [
      "       IsBadBuy Auction  VehicleAge       Make   Color Transmission WheelType  \\\n",
      "RefId                                                                           \n",
      "1             0   ADESA           3      MAZDA     RED         AUTO     Alloy   \n",
      "2             0   ADESA           5      DODGE   WHITE         AUTO     Alloy   \n",
      "3             0   ADESA           4      DODGE  MAROON         AUTO    Covers   \n",
      "4             0   ADESA           5      DODGE  SILVER         AUTO     Alloy   \n",
      "5             0   ADESA           4       FORD  SILVER       MANUAL    Covers   \n",
      "...         ...     ...         ...        ...     ...          ...       ...   \n",
      "73010         1   ADESA           8    MERCURY   BLACK         AUTO     Alloy   \n",
      "73011         0   ADESA           2  CHEVROLET  SILVER         AUTO       NaN   \n",
      "73012         0   ADESA           4       JEEP  SILVER         AUTO     Alloy   \n",
      "73013         0   ADESA           3  CHEVROLET   WHITE         AUTO     Alloy   \n",
      "73014         0   ADESA           3      MAZDA  SILVER         AUTO     Alloy   \n",
      "\n",
      "       VehOdo  Nationality         Size  ... MMRAcquisitonRetailCleanPrice  \\\n",
      "RefId                                    ...                                 \n",
      "1       89046  OTHER ASIAN       MEDIUM  ...                       13600.0   \n",
      "2       93593     AMERICAN  LARGE TRUCK  ...                       12572.0   \n",
      "3       73807     AMERICAN       MEDIUM  ...                        8457.0   \n",
      "4       65617     AMERICAN      COMPACT  ...                        5690.0   \n",
      "5       69367     AMERICAN      COMPACT  ...                        8707.0   \n",
      "...       ...          ...          ...  ...                           ...   \n",
      "73010   45234     AMERICAN       MEDIUM  ...                        3732.0   \n",
      "73011   71759     AMERICAN       MEDIUM  ...                        8411.0   \n",
      "73012   88500     AMERICAN   MEDIUM SUV  ...                       11256.0   \n",
      "73013   79554     AMERICAN        LARGE  ...                        8712.0   \n",
      "73014   66855  OTHER ASIAN       MEDIUM  ...                        9973.0   \n",
      "\n",
      "       MMRCurrentAuctionAveragePrice  MMRCurrentAuctionCleanPrice  \\\n",
      "RefId                                                               \n",
      "1                             7451.0                       8552.0   \n",
      "2                             7456.0                       9222.0   \n",
      "3                             4035.0                       5557.0   \n",
      "4                             1844.0                       2646.0   \n",
      "5                             3247.0                       4384.0   \n",
      "...                              ...                          ...   \n",
      "73010                         2190.0                       3055.0   \n",
      "73011                         6785.0                       8132.0   \n",
      "73012                         8375.0                       9802.0   \n",
      "73013                         6590.0                       7684.0   \n",
      "73014                         7730.0                       9102.0   \n",
      "\n",
      "       MMRCurrentRetailAveragePrice  MMRCurrentRetailCleanPrice  PRIMEUNIT  \\\n",
      "RefId                                                                        \n",
      "1                           11597.0                     12409.0        NaN   \n",
      "2                           11374.0                     12791.0        NaN   \n",
      "3                            7146.0                      8702.0        NaN   \n",
      "4                            4375.0                      5518.0        NaN   \n",
      "5                            6739.0                      7911.0        NaN   \n",
      "...                             ...                         ...        ...   \n",
      "73010                        4836.0                      5937.0        NaN   \n",
      "73011                       10151.0                     11652.0        NaN   \n",
      "73012                       11831.0                     14402.0        NaN   \n",
      "73013                       10099.0                     11228.0        NaN   \n",
      "73014                       11954.0                     13246.0        NaN   \n",
      "\n",
      "       AUCGUART  VehBCost  IsOnlineSale WarrantyCost  \n",
      "RefId                                                 \n",
      "1           NaN    7100.0             0         1113  \n",
      "2           NaN    7600.0             0         1053  \n",
      "3           NaN    4900.0             0         1389  \n",
      "4           NaN    4100.0             0          630  \n",
      "5           NaN    4000.0             0         1020  \n",
      "...         ...       ...           ...          ...  \n",
      "73010       NaN    4200.0             0          993  \n",
      "73011       NaN    6200.0             0         1038  \n",
      "73012       NaN    8200.0             0         1893  \n",
      "73013       NaN    7000.0             0         1974  \n",
      "73014       NaN    8000.0             0         1313  \n",
      "\n",
      "[72983 rows x 24 columns]\n",
      "<class 'pandas.core.frame.DataFrame'>\n",
      "Index: 72983 entries, 1 to 73014\n",
      "Data columns (total 24 columns):\n",
      " #   Column                             Non-Null Count  Dtype  \n",
      "---  ------                             --------------  -----  \n",
      " 0   IsBadBuy                           72983 non-null  int64  \n",
      " 1   Auction                            72983 non-null  object \n",
      " 2   VehicleAge                         72983 non-null  int64  \n",
      " 3   Make                               72983 non-null  object \n",
      " 4   Color                              72975 non-null  object \n",
      " 5   Transmission                       72974 non-null  object \n",
      " 6   WheelType                          69809 non-null  object \n",
      " 7   VehOdo                             72983 non-null  int64  \n",
      " 8   Nationality                        72978 non-null  object \n",
      " 9   Size                               72978 non-null  object \n",
      " 10  TopThreeAmericanName               72978 non-null  object \n",
      " 11  MMRAcquisitionAuctionAveragePrice  72137 non-null  float64\n",
      " 12  MMRAcquisitionAuctionCleanPrice    72137 non-null  float64\n",
      " 13  MMRAcquisitionRetailAveragePrice   72137 non-null  float64\n",
      " 14  MMRAcquisitonRetailCleanPrice      72137 non-null  float64\n",
      " 15  MMRCurrentAuctionAveragePrice      72164 non-null  float64\n",
      " 16  MMRCurrentAuctionCleanPrice        72164 non-null  float64\n",
      " 17  MMRCurrentRetailAveragePrice       72164 non-null  float64\n",
      " 18  MMRCurrentRetailCleanPrice         72164 non-null  float64\n",
      " 19  PRIMEUNIT                          3419 non-null   object \n",
      " 20  AUCGUART                           3419 non-null   object \n",
      " 21  VehBCost                           72981 non-null  float64\n",
      " 22  IsOnlineSale                       72983 non-null  int64  \n",
      " 23  WarrantyCost                       72983 non-null  int64  \n",
      "dtypes: float64(9), int64(5), object(10)\n",
      "memory usage: 13.9+ MB\n"
     ]
    }
   ],
   "source": [
    "column_ranges = {\n",
    "    'VehicleAge': (0, 30),\n",
    "    'VehOdo': (0, 120000),\n",
    "    'MMRAcquisitionAuctionAveragePrice': (800, 46000),\n",
    "    'MMRAcquisitionAuctionCleanPrice': (1000, 46000),\n",
    "    'MMRAcquisitionRetailAveragePrice': (1000, 46000),\n",
    "    'MMRAcquisitonRetailCleanPrice': (1000, 46000),\n",
    "    'MMRCurrentAuctionAveragePrice': (300, 46000),\n",
    "    'MMRCurrentAuctionCleanPrice': (400,46000),\n",
    "    'MMRCurrentRetailAveragePrice': (800,46000),\n",
    "    'MMRCurrentRetailCleanPrice': (1000,46000),\n",
    "    'VehBCost': (1000,46000),\n",
    "    'WarrantyCost': (400,8000)\n",
    "      \n",
    "}\n",
    "\n",
    "for column, (min_val, max_val) in column_ranges.items():\n",
    "    Filtered_df[column] = Filtered_df[column].apply(lambda x: x if min_val <= x <= max_val else None)\n",
    "\n",
    "print(Filtered_df)\n",
    "Filtered_df.describe()\n",
    "Filtered_df.info()"
   ]
  },
  {
   "cell_type": "code",
   "execution_count": 13,
   "id": "53eb200f",
   "metadata": {
    "execution": {
     "iopub.execute_input": "2025-05-09T07:57:02.289436Z",
     "iopub.status.busy": "2025-05-09T07:57:02.288695Z",
     "iopub.status.idle": "2025-05-09T07:57:02.297041Z",
     "shell.execute_reply": "2025-05-09T07:57:02.295993Z"
    },
    "papermill": {
     "duration": 0.023646,
     "end_time": "2025-05-09T07:57:02.299041",
     "exception": false,
     "start_time": "2025-05-09T07:57:02.275395",
     "status": "completed"
    },
    "tags": []
   },
   "outputs": [
    {
     "name": "stdout",
     "output_type": "stream",
     "text": [
      "0: Count: 64007, Percentage: 87.70%\n",
      "1: Count: 8976, Percentage: 12.30%\n"
     ]
    }
   ],
   "source": [
    "def frequency_table(variable):\n",
    "    \n",
    "    unique_elements, counts = np.unique(variable.dropna(), return_counts=True)\n",
    "\n",
    "    percentages = (counts / len(variable)) * 100\n",
    "\n",
    "    value_counts_and_percentages = zip(unique_elements, counts, percentages)\n",
    "\n",
    "    for i, j, k in value_counts_and_percentages:\n",
    "        print(f\"{i}: Count: {j}, Percentage: {k:.2f}%\")\n",
    "    return\n",
    "\n",
    "\n",
    "frequency_table(Filtered_df['IsBadBuy'])"
   ]
  },
  {
   "cell_type": "code",
   "execution_count": 14,
   "id": "2b2ac427",
   "metadata": {
    "execution": {
     "iopub.execute_input": "2025-05-09T07:57:02.325435Z",
     "iopub.status.busy": "2025-05-09T07:57:02.324675Z",
     "iopub.status.idle": "2025-05-09T07:57:02.364530Z",
     "shell.execute_reply": "2025-05-09T07:57:02.363692Z"
    },
    "papermill": {
     "duration": 0.055273,
     "end_time": "2025-05-09T07:57:02.366735",
     "exception": false,
     "start_time": "2025-05-09T07:57:02.311462",
     "status": "completed"
    },
    "tags": []
   },
   "outputs": [],
   "source": [
    "y = Filtered_df.iloc[:,0]\n",
    "X = Filtered_df.drop(Filtered_df.columns[0],axis=1)\n",
    "X_train,y_train, X_test, y_test = train_test_split(X,y, test_size=0.2, random_state=123)"
   ]
  },
  {
   "cell_type": "code",
   "execution_count": 15,
   "id": "2911faff",
   "metadata": {
    "execution": {
     "iopub.execute_input": "2025-05-09T07:57:02.392130Z",
     "iopub.status.busy": "2025-05-09T07:57:02.391722Z",
     "iopub.status.idle": "2025-05-09T07:57:02.398168Z",
     "shell.execute_reply": "2025-05-09T07:57:02.397193Z"
    },
    "papermill": {
     "duration": 0.021622,
     "end_time": "2025-05-09T07:57:02.400270",
     "exception": false,
     "start_time": "2025-05-09T07:57:02.378648",
     "status": "completed"
    },
    "tags": []
   },
   "outputs": [],
   "source": [
    "Inputs = X_train\n",
    "\n",
    "columns = Inputs.columns\n",
    "\n",
    "categorical_indices = [i for i , col in enumerate(Inputs.columns) if Inputs[col].dtype=='object']\n",
    "\n",
    "categorical_fields = [columns[i] for i in categorical_indices]\n",
    "\n",
    "continuous_fields = [j for j in columns if j not in categorical_fields]"
   ]
  },
  {
   "cell_type": "code",
   "execution_count": 16,
   "id": "07ac11c7",
   "metadata": {
    "execution": {
     "iopub.execute_input": "2025-05-09T07:57:02.425676Z",
     "iopub.status.busy": "2025-05-09T07:57:02.424805Z",
     "iopub.status.idle": "2025-05-09T07:57:02.437244Z",
     "shell.execute_reply": "2025-05-09T07:57:02.436332Z"
    },
    "papermill": {
     "duration": 0.027226,
     "end_time": "2025-05-09T07:57:02.439282",
     "exception": false,
     "start_time": "2025-05-09T07:57:02.412056",
     "status": "completed"
    },
    "tags": []
   },
   "outputs": [],
   "source": [
    "Filtered_df['Color'] = Filtered_df['Color'].replace('NOT AVAIL', np.nan)"
   ]
  },
  {
   "cell_type": "code",
   "execution_count": 17,
   "id": "bffc8c4b",
   "metadata": {
    "execution": {
     "iopub.execute_input": "2025-05-09T07:57:02.464737Z",
     "iopub.status.busy": "2025-05-09T07:57:02.464121Z",
     "iopub.status.idle": "2025-05-09T07:57:02.666488Z",
     "shell.execute_reply": "2025-05-09T07:57:02.665651Z"
    },
    "papermill": {
     "duration": 0.217607,
     "end_time": "2025-05-09T07:57:02.668721",
     "exception": false,
     "start_time": "2025-05-09T07:57:02.451114",
     "status": "completed"
    },
    "tags": []
   },
   "outputs": [],
   "source": [
    "for col in ['Color', 'Make']:\n",
    "    freq = Filtered_df[col].value_counts(normalize=True)  \n",
    "    rare_classes = freq[freq < 0.01].index        \n",
    "    Filtered_df[col] = Filtered_df[col].apply(lambda x: 'Other' if x in rare_classes else x)"
   ]
  },
  {
   "cell_type": "code",
   "execution_count": 18,
   "id": "d5514311",
   "metadata": {
    "execution": {
     "iopub.execute_input": "2025-05-09T07:57:02.695271Z",
     "iopub.status.busy": "2025-05-09T07:57:02.694328Z",
     "iopub.status.idle": "2025-05-09T07:57:02.729752Z",
     "shell.execute_reply": "2025-05-09T07:57:02.728850Z"
    },
    "papermill": {
     "duration": 0.051413,
     "end_time": "2025-05-09T07:57:02.731914",
     "exception": false,
     "start_time": "2025-05-09T07:57:02.680501",
     "status": "completed"
    },
    "tags": []
   },
   "outputs": [
    {
     "data": {
      "text/plain": [
       "(58386, 13)"
      ]
     },
     "execution_count": 18,
     "metadata": {},
     "output_type": "execute_result"
    }
   ],
   "source": [
    "min_cv = 0.1\n",
    "\n",
    "cv_values = Inputs[continuous_fields].std() / Inputs[continuous_fields].mean()\n",
    "\n",
    "selected_columns =  cv_values[cv_values < 0.1].index\n",
    "\n",
    "filtered_con = Inputs[selected_columns]\n",
    "\n",
    "Inputs_con = Inputs[continuous_fields].drop(selected_columns, axis=1)\n",
    "Inputs_con.shape"
   ]
  },
  {
   "cell_type": "code",
   "execution_count": 19,
   "id": "a725f513",
   "metadata": {
    "execution": {
     "iopub.execute_input": "2025-05-09T07:57:02.810982Z",
     "iopub.status.busy": "2025-05-09T07:57:02.810171Z",
     "iopub.status.idle": "2025-05-09T07:57:02.877434Z",
     "shell.execute_reply": "2025-05-09T07:57:02.876406Z"
    },
    "papermill": {
     "duration": 0.135502,
     "end_time": "2025-05-09T07:57:02.879437",
     "exception": false,
     "start_time": "2025-05-09T07:57:02.743935",
     "status": "completed"
    },
    "tags": []
   },
   "outputs": [
    {
     "data": {
      "text/plain": [
       "(58386, 10)"
      ]
     },
     "execution_count": 19,
     "metadata": {},
     "output_type": "execute_result"
    }
   ],
   "source": [
    "threshold = 99\n",
    "\n",
    "mode_category = (Inputs[categorical_fields].apply(lambda x: x.value_counts().max() / len(x)) * 100)\n",
    "\n",
    "selected_categorical_columns = mode_category[mode_category > threshold].index\n",
    "\n",
    "mode_filtered_inputs = Inputs[selected_categorical_columns]\n",
    "\n",
    "Inputs_cat = Inputs[categorical_fields].drop(selected_categorical_columns, axis=1)\n",
    "Inputs_cat.shape"
   ]
  },
  {
   "cell_type": "code",
   "execution_count": 20,
   "id": "1d5c8162",
   "metadata": {
    "execution": {
     "iopub.execute_input": "2025-05-09T07:57:02.905486Z",
     "iopub.status.busy": "2025-05-09T07:57:02.904622Z",
     "iopub.status.idle": "2025-05-09T07:57:02.997602Z",
     "shell.execute_reply": "2025-05-09T07:57:02.996542Z"
    },
    "papermill": {
     "duration": 0.108053,
     "end_time": "2025-05-09T07:57:02.999615",
     "exception": false,
     "start_time": "2025-05-09T07:57:02.891562",
     "status": "completed"
    },
    "tags": []
   },
   "outputs": [
    {
     "data": {
      "text/plain": [
       "(58386, 10)"
      ]
     },
     "execution_count": 20,
     "metadata": {},
     "output_type": "execute_result"
    }
   ],
   "source": [
    "threshold = 90\n",
    "\n",
    "distinct_percentage = (Inputs_cat.apply(lambda x: x.dropna().nunique() / x.count()) * 100)\n",
    "\n",
    "selected_categorical_columns = distinct_percentage[distinct_percentage > threshold].index\n",
    "\n",
    "distinct_filtered_inputs = Inputs_cat[selected_categorical_columns]\n",
    "\n",
    "Inputs_cat = Inputs_cat.drop(selected_categorical_columns, axis=1)\n",
    "Inputs_cat.shape"
   ]
  },
  {
   "cell_type": "code",
   "execution_count": 21,
   "id": "877d8fbb",
   "metadata": {
    "execution": {
     "iopub.execute_input": "2025-05-09T07:57:03.025790Z",
     "iopub.status.busy": "2025-05-09T07:57:03.025433Z",
     "iopub.status.idle": "2025-05-09T07:57:03.051715Z",
     "shell.execute_reply": "2025-05-09T07:57:03.050633Z"
    },
    "papermill": {
     "duration": 0.041664,
     "end_time": "2025-05-09T07:57:03.053839",
     "exception": false,
     "start_time": "2025-05-09T07:57:03.012175",
     "status": "completed"
    },
    "tags": []
   },
   "outputs": [
    {
     "name": "stdout",
     "output_type": "stream",
     "text": [
      "Percentage of cells with expected counts less than 5: 25.00%\n",
      "Odds ratio: 2.7249718785151855\n",
      "P-value: 0.031913695820739094\n",
      "There is a significant difference in 'PRIMEUNIT' among the 'IsBadBuy' groups.\n"
     ]
    }
   ],
   "source": [
    "primeunit_data = Filtered_df[['PRIMEUNIT', 'IsBadBuy']].dropna()\n",
    "\n",
    "contingency_primeunit = pd.crosstab(primeunit_data['PRIMEUNIT'], primeunit_data['IsBadBuy'])\n",
    "\n",
    "row_percentages_pu = contingency_primeunit.div(contingency_primeunit.sum(axis=1), axis=0) * 100\n",
    "\n",
    "\n",
    "chi2, p, dof, expected_pu = chi2_contingency(contingency_primeunit)\n",
    "\n",
    "percentage_low_expected_PRIMEUNIT = (expected_pu < 5).sum().sum() / (expected_pu.shape[0] * expected_pu.shape[1]) * 100\n",
    "\n",
    "print(f\"Percentage of cells with expected counts less than 5: {percentage_low_expected_PRIMEUNIT:.2f}%\")\n",
    "\n",
    "\n",
    "odds_ratio, p_value = fisher_exact(contingency_primeunit)\n",
    "\n",
    "print(f\"Odds ratio: {odds_ratio}\")\n",
    "print(f\"P-value: {p_value}\")\n",
    "\n",
    "if p_value < 0.05:\n",
    "   print(\"There is a significant difference in 'PRIMEUNIT' among the 'IsBadBuy' groups.\")\n",
    "else:\n",
    "   print(\"There is no significant difference in 'PRIMEUNIT' among the 'IsBadBuy' groups.\")"
   ]
  },
  {
   "cell_type": "code",
   "execution_count": 22,
   "id": "0c05a7dc",
   "metadata": {
    "execution": {
     "iopub.execute_input": "2025-05-09T07:57:03.080016Z",
     "iopub.status.busy": "2025-05-09T07:57:03.079548Z",
     "iopub.status.idle": "2025-05-09T07:57:03.101385Z",
     "shell.execute_reply": "2025-05-09T07:57:03.100179Z"
    },
    "papermill": {
     "duration": 0.037326,
     "end_time": "2025-05-09T07:57:03.103470",
     "exception": false,
     "start_time": "2025-05-09T07:57:03.066144",
     "status": "completed"
    },
    "tags": []
   },
   "outputs": [
    {
     "name": "stdout",
     "output_type": "stream",
     "text": [
      "Percentage of cells with expected counts less than 5: 25.00%\n",
      "Odds ratio: 2.8980281690140846\n",
      "P-value: 0.01080463484600896\n",
      "There is a significant difference in 'AUCGUART' among the 'IsBadBuy' groups.\n"
     ]
    }
   ],
   "source": [
    "aucguart_data = Filtered_df[['AUCGUART', 'IsBadBuy']].dropna()\n",
    "\n",
    "contingency_aucguart = pd.crosstab(aucguart_data['AUCGUART'], aucguart_data['IsBadBuy'])\n",
    "row_percentages_au = contingency_aucguart.div(contingency_aucguart.sum(axis=1), axis=0) * 100\n",
    "\n",
    "chi2_au, p_value, dof_au, expected_au = chi2_contingency(contingency_aucguart)\n",
    "\n",
    "percentage_low_expected_AUCGUART = (expected_au < 5).sum().sum() / (expected_au.shape[0] * expected_au.shape[1]) * 100\n",
    "\n",
    "print(f\"Percentage of cells with expected counts less than 5: {percentage_low_expected_AUCGUART:.2f}%\")\n",
    "\n",
    "odds_ratio, p_value = fisher_exact(contingency_aucguart)\n",
    "\n",
    "print(f\"Odds ratio: {odds_ratio}\")\n",
    "print(f\"P-value: {p_value}\")\n",
    "\n",
    "if p_value < 0.05:\n",
    "    print(\"There is a significant difference in 'AUCGUART' among the 'IsBadBuy' groups.\")\n",
    "else:\n",
    "    print(\"There is no significant difference in 'AUCGUART' among the 'IsBadBuy' groups.\")"
   ]
  },
  {
   "cell_type": "code",
   "execution_count": 23,
   "id": "391ed4d5",
   "metadata": {
    "execution": {
     "iopub.execute_input": "2025-05-09T07:57:03.129412Z",
     "iopub.status.busy": "2025-05-09T07:57:03.129054Z",
     "iopub.status.idle": "2025-05-09T07:57:03.142615Z",
     "shell.execute_reply": "2025-05-09T07:57:03.141600Z"
    },
    "papermill": {
     "duration": 0.029224,
     "end_time": "2025-05-09T07:57:03.144907",
     "exception": false,
     "start_time": "2025-05-09T07:57:03.115683",
     "status": "completed"
    },
    "tags": []
   },
   "outputs": [],
   "source": [
    "Filtered_df['PRIMEUNIT'] = Filtered_df['PRIMEUNIT'].fillna('unknown')\n",
    "Filtered_df['AUCGUART'] = Filtered_df['AUCGUART'].fillna('unknown')"
   ]
  },
  {
   "cell_type": "code",
   "execution_count": 24,
   "id": "89643703",
   "metadata": {
    "execution": {
     "iopub.execute_input": "2025-05-09T07:57:03.171011Z",
     "iopub.status.busy": "2025-05-09T07:57:03.170639Z",
     "iopub.status.idle": "2025-05-09T07:57:04.051984Z",
     "shell.execute_reply": "2025-05-09T07:57:04.051068Z"
    },
    "papermill": {
     "duration": 0.896947,
     "end_time": "2025-05-09T07:57:04.054296",
     "exception": false,
     "start_time": "2025-05-09T07:57:03.157349",
     "status": "completed"
    },
    "tags": []
   },
   "outputs": [],
   "source": [
    "Filtered_df.to_csv('/kaggle/working/Auction_Car.csv')"
   ]
  },
  {
   "cell_type": "code",
   "execution_count": 25,
   "id": "4fb6f0f8",
   "metadata": {
    "execution": {
     "iopub.execute_input": "2025-05-09T07:57:04.080542Z",
     "iopub.status.busy": "2025-05-09T07:57:04.080195Z",
     "iopub.status.idle": "2025-05-09T07:57:04.131857Z",
     "shell.execute_reply": "2025-05-09T07:57:04.131026Z"
    },
    "papermill": {
     "duration": 0.067403,
     "end_time": "2025-05-09T07:57:04.134169",
     "exception": false,
     "start_time": "2025-05-09T07:57:04.066766",
     "status": "completed"
    },
    "tags": []
   },
   "outputs": [],
   "source": [
    "Cleaning_df=Filtered_df.copy()"
   ]
  },
  {
   "cell_type": "code",
   "execution_count": 26,
   "id": "ca8af290",
   "metadata": {
    "execution": {
     "iopub.execute_input": "2025-05-09T07:57:04.160062Z",
     "iopub.status.busy": "2025-05-09T07:57:04.159682Z",
     "iopub.status.idle": "2025-05-09T07:57:04.170639Z",
     "shell.execute_reply": "2025-05-09T07:57:04.169676Z"
    },
    "papermill": {
     "duration": 0.026268,
     "end_time": "2025-05-09T07:57:04.172734",
     "exception": false,
     "start_time": "2025-05-09T07:57:04.146466",
     "status": "completed"
    },
    "tags": []
   },
   "outputs": [],
   "source": [
    "Target_Cleaning = Cleaning_df.iloc[:,0]\n",
    "Inputs_Cleaning = Cleaning_df.drop(Cleaning_df.columns[0],axis=1)"
   ]
  },
  {
   "cell_type": "code",
   "execution_count": 27,
   "id": "47cbc0e5",
   "metadata": {
    "execution": {
     "iopub.execute_input": "2025-05-09T07:57:04.199570Z",
     "iopub.status.busy": "2025-05-09T07:57:04.198532Z",
     "iopub.status.idle": "2025-05-09T07:57:04.204748Z",
     "shell.execute_reply": "2025-05-09T07:57:04.203996Z"
    },
    "papermill": {
     "duration": 0.021504,
     "end_time": "2025-05-09T07:57:04.206923",
     "exception": false,
     "start_time": "2025-05-09T07:57:04.185419",
     "status": "completed"
    },
    "tags": []
   },
   "outputs": [],
   "source": [
    "columns_Cleaning = Inputs_Cleaning.columns\n",
    "\n",
    "categorical_indices_Cleaning = [i for i , col in enumerate(Inputs_Cleaning.columns) if Inputs_Cleaning[col].dtype=='object']\n",
    "\n",
    "categorical_fields_Cleaning = [columns_Cleaning[i] for i in categorical_indices_Cleaning]\n",
    "\n",
    "continuous_fields_Cleaning = [j for j in columns_Cleaning if j not in categorical_fields_Cleaning]"
   ]
  },
  {
   "cell_type": "code",
   "execution_count": 28,
   "id": "ed9ca203",
   "metadata": {
    "execution": {
     "iopub.execute_input": "2025-05-09T07:57:04.233415Z",
     "iopub.status.busy": "2025-05-09T07:57:04.232535Z",
     "iopub.status.idle": "2025-05-09T07:57:04.238594Z",
     "shell.execute_reply": "2025-05-09T07:57:04.237583Z"
    },
    "papermill": {
     "duration": 0.021204,
     "end_time": "2025-05-09T07:57:04.240417",
     "exception": false,
     "start_time": "2025-05-09T07:57:04.219213",
     "status": "completed"
    },
    "tags": []
   },
   "outputs": [
    {
     "data": {
      "text/plain": [
       "['Auction',\n",
       " 'Make',\n",
       " 'Color',\n",
       " 'Transmission',\n",
       " 'WheelType',\n",
       " 'Nationality',\n",
       " 'Size',\n",
       " 'TopThreeAmericanName',\n",
       " 'PRIMEUNIT',\n",
       " 'AUCGUART']"
      ]
     },
     "execution_count": 28,
     "metadata": {},
     "output_type": "execute_result"
    }
   ],
   "source": [
    "categorical_fields_Cleaning"
   ]
  },
  {
   "cell_type": "code",
   "execution_count": 29,
   "id": "cb847ad2",
   "metadata": {
    "execution": {
     "iopub.execute_input": "2025-05-09T07:57:04.266285Z",
     "iopub.status.busy": "2025-05-09T07:57:04.265933Z",
     "iopub.status.idle": "2025-05-09T07:57:08.345726Z",
     "shell.execute_reply": "2025-05-09T07:57:08.344546Z"
    },
    "papermill": {
     "duration": 4.095415,
     "end_time": "2025-05-09T07:57:08.347959",
     "exception": false,
     "start_time": "2025-05-09T07:57:04.252544",
     "status": "completed"
    },
    "tags": []
   },
   "outputs": [
    {
     "name": "stderr",
     "output_type": "stream",
     "text": [
      "/opt/conda/lib/python3.10/site-packages/sklearn/base.py:439: UserWarning: X does not have valid feature names, but IsolationForest was fitted with feature names\n",
      "  warnings.warn(\n"
     ]
    },
    {
     "name": "stdout",
     "output_type": "stream",
     "text": [
      "Percentage of outliers: 1.00%\n"
     ]
    }
   ],
   "source": [
    "Inputs_iso = Inputs_Cleaning.copy()\n",
    "\n",
    "Inputs_iso = Inputs_iso.dropna()\n",
    "\n",
    "scaler = StandardScaler()\n",
    "Inputs_iso[continuous_fields_Cleaning] = scaler.fit_transform(Inputs_iso[continuous_fields_Cleaning])\n",
    "\n",
    "label_encoder = LabelEncoder()\n",
    "Inputs_iso[categorical_fields_Cleaning] = Inputs_iso[categorical_fields_Cleaning].apply(label_encoder.fit_transform)\n",
    "\n",
    "clf = IsolationForest(contamination=0.01, random_state=42)\n",
    "clf.fit(Inputs_iso)\n",
    "\n",
    "outliers = clf.predict(Inputs_iso)\n",
    "\n",
    "Inputs_iso['outlier'] = outliers\n",
    "\n",
    "percentage_outliers = (outliers[outliers == -1].shape[0] / len(outliers)) * 100\n",
    "print(f\"Percentage of outliers: {percentage_outliers:.2f}%\")"
   ]
  },
  {
   "cell_type": "code",
   "execution_count": 30,
   "id": "c3f3771b",
   "metadata": {
    "execution": {
     "iopub.execute_input": "2025-05-09T07:57:08.374434Z",
     "iopub.status.busy": "2025-05-09T07:57:08.374092Z",
     "iopub.status.idle": "2025-05-09T07:57:08.409585Z",
     "shell.execute_reply": "2025-05-09T07:57:08.408827Z"
    },
    "papermill": {
     "duration": 0.051293,
     "end_time": "2025-05-09T07:57:08.412004",
     "exception": false,
     "start_time": "2025-05-09T07:57:08.360711",
     "status": "completed"
    },
    "tags": []
   },
   "outputs": [],
   "source": [
    "y_train_Cleaning = Target_Cleaning\n",
    "outlier_index = Inputs_iso[Inputs_iso['outlier'] == -1].index\n",
    "Inputs_outprep = Inputs_Cleaning.drop(outlier_index)\n",
    "y_train_outprep = y_train_Cleaning.drop(outlier_index)\n",
    "\n",
    "train_outprep = pd.concat([Inputs_outprep, y_train_outprep], axis=1)"
   ]
  },
  {
   "cell_type": "code",
   "execution_count": 31,
   "id": "87ab43eb",
   "metadata": {
    "execution": {
     "iopub.execute_input": "2025-05-09T07:57:08.439444Z",
     "iopub.status.busy": "2025-05-09T07:57:08.438682Z",
     "iopub.status.idle": "2025-05-09T07:57:08.558798Z",
     "shell.execute_reply": "2025-05-09T07:57:08.557656Z"
    },
    "papermill": {
     "duration": 0.136379,
     "end_time": "2025-05-09T07:57:08.561180",
     "exception": false,
     "start_time": "2025-05-09T07:57:08.424801",
     "status": "completed"
    },
    "tags": []
   },
   "outputs": [
    {
     "name": "stdout",
     "output_type": "stream",
     "text": [
      "Report on Rows with Missing Values:\n",
      "Total Rows: 72297\n",
      "Rows with Missing Values: 4386 (6.07%)\n",
      "\n",
      "DataFrame with Num_Missing_Values column:\n",
      "       Auction  VehicleAge       Make   Color Transmission WheelType  VehOdo  \\\n",
      "RefId                                                                          \n",
      "10897  MANHEIM           7      Other   WHITE         AUTO    Covers   78288   \n",
      "38009  MANHEIM           3    HYUNDAI  SILVER         AUTO    Covers   45047   \n",
      "14446    OTHER           3    PONTIAC   WHITE         AUTO       NaN   78121   \n",
      "44973    OTHER           4  CHEVROLET    GREY         AUTO       NaN   68508   \n",
      "12681    OTHER           6       FORD    GOLD         AUTO       NaN   66705   \n",
      "...        ...         ...        ...     ...          ...       ...     ...   \n",
      "25156    OTHER           4      DODGE  MAROON         AUTO    Covers   61163   \n",
      "25157    OTHER           5       JEEP    BLUE         AUTO     Alloy   83131   \n",
      "25158    OTHER           6  CHEVROLET  SILVER         AUTO    Covers   73909   \n",
      "25159    OTHER           7       FORD   WHITE         AUTO     Alloy   77627   \n",
      "73014    ADESA           3      MAZDA  SILVER         AUTO     Alloy   66855   \n",
      "\n",
      "       Nationality         Size TopThreeAmericanName  ...  \\\n",
      "RefId                                                 ...   \n",
      "10897          NaN          NaN                  NaN  ...   \n",
      "38009          NaN          NaN                  NaN  ...   \n",
      "14446     AMERICAN          VAN                   GM  ...   \n",
      "44973     AMERICAN  LARGE TRUCK                   GM  ...   \n",
      "12681     AMERICAN  SMALL TRUCK                 FORD  ...   \n",
      "...            ...          ...                  ...  ...   \n",
      "25156     AMERICAN   MEDIUM SUV             CHRYSLER  ...   \n",
      "25157     AMERICAN   MEDIUM SUV             CHRYSLER  ...   \n",
      "25158     AMERICAN      COMPACT                   GM  ...   \n",
      "25159     AMERICAN   MEDIUM SUV                 FORD  ...   \n",
      "73014  OTHER ASIAN       MEDIUM                OTHER  ...   \n",
      "\n",
      "       MMRCurrentAuctionCleanPrice  MMRCurrentRetailAveragePrice  \\\n",
      "RefId                                                              \n",
      "10897                          NaN                           NaN   \n",
      "38009                          NaN                           NaN   \n",
      "14446                          NaN                           NaN   \n",
      "44973                          NaN                           NaN   \n",
      "12681                          NaN                           NaN   \n",
      "...                            ...                           ...   \n",
      "25156                      10766.0                       10307.0   \n",
      "25157                       8400.0                        7949.0   \n",
      "25158                       3225.0                        2917.0   \n",
      "25159                       5577.0                        5255.0   \n",
      "73014                       9102.0                       11954.0   \n",
      "\n",
      "       MMRCurrentRetailCleanPrice  PRIMEUNIT  AUCGUART  VehBCost  \\\n",
      "RefId                                                              \n",
      "10897                         NaN    unknown   unknown    7500.0   \n",
      "38009                         NaN    unknown   unknown    5705.0   \n",
      "14446                         NaN    unknown   unknown    6500.0   \n",
      "44973                         NaN    unknown   unknown    9525.0   \n",
      "12681                         NaN    unknown   unknown    6200.0   \n",
      "...                           ...        ...       ...       ...   \n",
      "25156                     12127.0    unknown   unknown    9825.0   \n",
      "25157                      9572.0    unknown   unknown    6925.0   \n",
      "25158                      3983.0    unknown   unknown    4005.0   \n",
      "25159                      6523.0    unknown   unknown    6625.0   \n",
      "73014                     13246.0    unknown   unknown    8000.0   \n",
      "\n",
      "       IsOnlineSale  WarrantyCost IsBadBuy Num_Missing_Values  \n",
      "RefId                                                          \n",
      "10897             0          1455        0                 11  \n",
      "38009             0           482        0                 11  \n",
      "14446             0          2091        1                  9  \n",
      "44973             0          1118        1                  9  \n",
      "12681             0          1020        0                  9  \n",
      "...             ...           ...      ...                ...  \n",
      "25156             0          1411        0                  0  \n",
      "25157             0          2022        0                  0  \n",
      "25158             0          1455        0                  0  \n",
      "25159             0          2391        0                  0  \n",
      "73014             0          1313        0                  0  \n",
      "\n",
      "[72297 rows x 25 columns]\n"
     ]
    }
   ],
   "source": [
    "train_outprep['Num_Missing_Values'] = train_outprep.isnull().sum(axis=1)\n",
    "\n",
    "rows_with_missing_values = train_outprep[train_outprep['Num_Missing_Values'] > 0]\n",
    "\n",
    "total_rows = len(train_outprep)\n",
    "rows_with_missing_count = len(rows_with_missing_values)\n",
    "percentage_rows_with_missing = (rows_with_missing_count / total_rows) * 100\n",
    "\n",
    "print(\"Report on Rows with Missing Values:\")\n",
    "print(f\"Total Rows: {total_rows}\")\n",
    "print(f\"Rows with Missing Values: {rows_with_missing_count} ({percentage_rows_with_missing:.2f}%)\")\n",
    "\n",
    "\n",
    "print(\"\\nDataFrame with Num_Missing_Values column:\")\n",
    "print(train_outprep.sort_values(by='Num_Missing_Values', ascending = False))"
   ]
  },
  {
   "cell_type": "code",
   "execution_count": 32,
   "id": "94e30391",
   "metadata": {
    "execution": {
     "iopub.execute_input": "2025-05-09T07:57:08.588544Z",
     "iopub.status.busy": "2025-05-09T07:57:08.587914Z",
     "iopub.status.idle": "2025-05-09T07:57:08.594218Z",
     "shell.execute_reply": "2025-05-09T07:57:08.593304Z"
    },
    "papermill": {
     "duration": 0.021911,
     "end_time": "2025-05-09T07:57:08.596245",
     "exception": false,
     "start_time": "2025-05-09T07:57:08.574334",
     "status": "completed"
    },
    "tags": []
   },
   "outputs": [
    {
     "data": {
      "text/plain": [
       "Index(['Auction', 'VehicleAge', 'Make', 'Color', 'Transmission', 'WheelType',\n",
       "       'VehOdo', 'Nationality', 'Size', 'TopThreeAmericanName',\n",
       "       'MMRAcquisitionAuctionAveragePrice', 'MMRAcquisitionAuctionCleanPrice',\n",
       "       'MMRAcquisitionRetailAveragePrice', 'MMRAcquisitonRetailCleanPrice',\n",
       "       'MMRCurrentAuctionAveragePrice', 'MMRCurrentAuctionCleanPrice',\n",
       "       'MMRCurrentRetailAveragePrice', 'MMRCurrentRetailCleanPrice',\n",
       "       'PRIMEUNIT', 'AUCGUART', 'VehBCost', 'IsOnlineSale', 'WarrantyCost',\n",
       "       'IsBadBuy', 'Num_Missing_Values'],\n",
       "      dtype='object')"
      ]
     },
     "execution_count": 32,
     "metadata": {},
     "output_type": "execute_result"
    }
   ],
   "source": [
    "train_outprep.columns"
   ]
  },
  {
   "cell_type": "code",
   "execution_count": 33,
   "id": "503a0b9e",
   "metadata": {
    "execution": {
     "iopub.execute_input": "2025-05-09T07:57:08.624131Z",
     "iopub.status.busy": "2025-05-09T07:57:08.623227Z",
     "iopub.status.idle": "2025-05-09T07:57:08.669324Z",
     "shell.execute_reply": "2025-05-09T07:57:08.668470Z"
    },
    "papermill": {
     "duration": 0.062366,
     "end_time": "2025-05-09T07:57:08.671563",
     "exception": false,
     "start_time": "2025-05-09T07:57:08.609197",
     "status": "completed"
    },
    "tags": []
   },
   "outputs": [],
   "source": [
    "columns_price = [\n",
    "    'MMRAcquisitionAuctionAveragePrice',\n",
    "    'MMRAcquisitionAuctionCleanPrice',\n",
    "    'MMRAcquisitionRetailAveragePrice',\n",
    "    'MMRAcquisitonRetailCleanPrice',\n",
    "    'MMRCurrentAuctionAveragePrice' ,\n",
    "    'MMRCurrentAuctionCleanPrice' ,\n",
    "    'MMRCurrentRetailAveragePrice' , \n",
    "    'MMRCurrentRetailCleanPrice'\n",
    "]\n",
    "\n",
    "train_outprep_price_clean = train_outprep.dropna(subset=columns_price)\n",
    "\n",
    "max_missing_values_threshold = 4\n",
    "\n",
    "missing_counts = train_outprep_price_clean[columns_price].isna().sum(axis=1)\n",
    "\n",
    "train_outprep =  train_outprep_price_clean[missing_counts <= max_missing_values_threshold]"
   ]
  },
  {
   "cell_type": "code",
   "execution_count": 34,
   "id": "e7b75d44",
   "metadata": {
    "execution": {
     "iopub.execute_input": "2025-05-09T07:57:08.698923Z",
     "iopub.status.busy": "2025-05-09T07:57:08.698246Z",
     "iopub.status.idle": "2025-05-09T07:57:08.775818Z",
     "shell.execute_reply": "2025-05-09T07:57:08.774736Z"
    },
    "papermill": {
     "duration": 0.093606,
     "end_time": "2025-05-09T07:57:08.778043",
     "exception": false,
     "start_time": "2025-05-09T07:57:08.684437",
     "status": "completed"
    },
    "tags": []
   },
   "outputs": [
    {
     "name": "stdout",
     "output_type": "stream",
     "text": [
      "Missing Values Report:\n",
      "                               Column  Missing Values  Percentage Missing\n",
      "0                             Auction               0            0.000000\n",
      "1                          VehicleAge               0            0.000000\n",
      "2                                Make               0            0.000000\n",
      "3                               Color              97            0.136406\n",
      "4                        Transmission               9            0.012656\n",
      "5                           WheelType            3138            4.412819\n",
      "6                              VehOdo               0            0.000000\n",
      "7                         Nationality               1            0.001406\n",
      "8                                Size               1            0.001406\n",
      "9                TopThreeAmericanName               1            0.001406\n",
      "10  MMRAcquisitionAuctionAveragePrice               0            0.000000\n",
      "11    MMRAcquisitionAuctionCleanPrice               0            0.000000\n",
      "12   MMRAcquisitionRetailAveragePrice               0            0.000000\n",
      "13      MMRAcquisitonRetailCleanPrice               0            0.000000\n",
      "14      MMRCurrentAuctionAveragePrice               0            0.000000\n",
      "15        MMRCurrentAuctionCleanPrice               0            0.000000\n",
      "16       MMRCurrentRetailAveragePrice               0            0.000000\n",
      "17         MMRCurrentRetailCleanPrice               0            0.000000\n",
      "18                          PRIMEUNIT               0            0.000000\n",
      "19                           AUCGUART               0            0.000000\n",
      "20                           VehBCost               2            0.002813\n",
      "21                       IsOnlineSale               0            0.000000\n",
      "22                       WarrantyCost               0            0.000000\n",
      "23                           IsBadBuy               0            0.000000\n",
      "24                 Num_Missing_Values               0            0.000000\n"
     ]
    }
   ],
   "source": [
    "missing_values_report = pd.DataFrame({\n",
    "    'Column': train_outprep.columns,\n",
    "    'Missing Values': train_outprep.isnull().sum().values,\n",
    "    'Percentage Missing': train_outprep.isnull().mean().values * 100\n",
    "})\n",
    "\n",
    "print(\"Missing Values Report:\")\n",
    "print(missing_values_report)"
   ]
  },
  {
   "cell_type": "code",
   "execution_count": 35,
   "id": "609eb343",
   "metadata": {
    "execution": {
     "iopub.execute_input": "2025-05-09T07:57:08.805645Z",
     "iopub.status.busy": "2025-05-09T07:57:08.804940Z",
     "iopub.status.idle": "2025-05-09T07:57:08.986977Z",
     "shell.execute_reply": "2025-05-09T07:57:08.985745Z"
    },
    "papermill": {
     "duration": 0.19816,
     "end_time": "2025-05-09T07:57:08.989189",
     "exception": false,
     "start_time": "2025-05-09T07:57:08.791029",
     "status": "completed"
    },
    "tags": []
   },
   "outputs": [
    {
     "name": "stdout",
     "output_type": "stream",
     "text": [
      "DataFrame after Imputation:\n",
      "      Auction  VehicleAge       Make   Color Transmission WheelType  VehOdo  \\\n",
      "RefId                                                                         \n",
      "1       ADESA           3      MAZDA     RED         AUTO     Alloy   89046   \n",
      "2       ADESA           5      DODGE   WHITE         AUTO     Alloy   93593   \n",
      "3       ADESA           4      DODGE  MAROON         AUTO    Covers   73807   \n",
      "4       ADESA           5      DODGE  SILVER         AUTO     Alloy   65617   \n",
      "5       ADESA           4       FORD  SILVER       MANUAL    Covers   69367   \n",
      "...       ...         ...        ...     ...          ...       ...     ...   \n",
      "73010   ADESA           8    MERCURY   BLACK         AUTO     Alloy   45234   \n",
      "73011   ADESA           2  CHEVROLET  SILVER         AUTO     Alloy   71759   \n",
      "73012   ADESA           4       JEEP  SILVER         AUTO     Alloy   88500   \n",
      "73013   ADESA           3  CHEVROLET   WHITE         AUTO     Alloy   79554   \n",
      "73014   ADESA           3      MAZDA  SILVER         AUTO     Alloy   66855   \n",
      "\n",
      "       Nationality         Size TopThreeAmericanName  ...  \\\n",
      "RefId                                                 ...   \n",
      "1      OTHER ASIAN       MEDIUM                OTHER  ...   \n",
      "2         AMERICAN  LARGE TRUCK             CHRYSLER  ...   \n",
      "3         AMERICAN       MEDIUM             CHRYSLER  ...   \n",
      "4         AMERICAN      COMPACT             CHRYSLER  ...   \n",
      "5         AMERICAN      COMPACT                 FORD  ...   \n",
      "...            ...          ...                  ...  ...   \n",
      "73010     AMERICAN       MEDIUM                 FORD  ...   \n",
      "73011     AMERICAN       MEDIUM                   GM  ...   \n",
      "73012     AMERICAN   MEDIUM SUV             CHRYSLER  ...   \n",
      "73013     AMERICAN        LARGE                   GM  ...   \n",
      "73014  OTHER ASIAN       MEDIUM                OTHER  ...   \n",
      "\n",
      "       MMRCurrentAuctionCleanPrice  MMRCurrentRetailAveragePrice  \\\n",
      "RefId                                                              \n",
      "1                           8552.0                       11597.0   \n",
      "2                           9222.0                       11374.0   \n",
      "3                           5557.0                        7146.0   \n",
      "4                           2646.0                        4375.0   \n",
      "5                           4384.0                        6739.0   \n",
      "...                            ...                           ...   \n",
      "73010                       3055.0                        4836.0   \n",
      "73011                       8132.0                       10151.0   \n",
      "73012                       9802.0                       11831.0   \n",
      "73013                       7684.0                       10099.0   \n",
      "73014                       9102.0                       11954.0   \n",
      "\n",
      "       MMRCurrentRetailCleanPrice  PRIMEUNIT  AUCGUART  VehBCost  \\\n",
      "RefId                                                              \n",
      "1                         12409.0    unknown   unknown    7100.0   \n",
      "2                         12791.0    unknown   unknown    7600.0   \n",
      "3                          8702.0    unknown   unknown    4900.0   \n",
      "4                          5518.0    unknown   unknown    4100.0   \n",
      "5                          7911.0    unknown   unknown    4000.0   \n",
      "...                           ...        ...       ...       ...   \n",
      "73010                      5937.0    unknown   unknown    4200.0   \n",
      "73011                     11652.0    unknown   unknown    6200.0   \n",
      "73012                     14402.0    unknown   unknown    8200.0   \n",
      "73013                     11228.0    unknown   unknown    7000.0   \n",
      "73014                     13246.0    unknown   unknown    8000.0   \n",
      "\n",
      "       IsOnlineSale  WarrantyCost IsBadBuy Num_Missing_Values  \n",
      "RefId                                                          \n",
      "1                 0          1113        0                  0  \n",
      "2                 0          1053        0                  0  \n",
      "3                 0          1389        0                  0  \n",
      "4                 0           630        0                  0  \n",
      "5                 0          1020        0                  0  \n",
      "...             ...           ...      ...                ...  \n",
      "73010             0           993        1                  0  \n",
      "73011             0          1038        0                  1  \n",
      "73012             0          1893        0                  0  \n",
      "73013             0          1974        0                  0  \n",
      "73014             0          1313        0                  0  \n",
      "\n",
      "[71111 rows x 25 columns]\n",
      "<class 'pandas.core.frame.DataFrame'>\n",
      "Index: 71111 entries, 1 to 73014\n",
      "Data columns (total 25 columns):\n",
      " #   Column                             Non-Null Count  Dtype  \n",
      "---  ------                             --------------  -----  \n",
      " 0   Auction                            71111 non-null  object \n",
      " 1   VehicleAge                         71111 non-null  int64  \n",
      " 2   Make                               71111 non-null  object \n",
      " 3   Color                              71111 non-null  object \n",
      " 4   Transmission                       71111 non-null  object \n",
      " 5   WheelType                          71111 non-null  object \n",
      " 6   VehOdo                             71111 non-null  int64  \n",
      " 7   Nationality                        71111 non-null  object \n",
      " 8   Size                               71111 non-null  object \n",
      " 9   TopThreeAmericanName               71111 non-null  object \n",
      " 10  MMRAcquisitionAuctionAveragePrice  71111 non-null  float64\n",
      " 11  MMRAcquisitionAuctionCleanPrice    71111 non-null  float64\n",
      " 12  MMRAcquisitionRetailAveragePrice   71111 non-null  float64\n",
      " 13  MMRAcquisitonRetailCleanPrice      71111 non-null  float64\n",
      " 14  MMRCurrentAuctionAveragePrice      71111 non-null  float64\n",
      " 15  MMRCurrentAuctionCleanPrice        71111 non-null  float64\n",
      " 16  MMRCurrentRetailAveragePrice       71111 non-null  float64\n",
      " 17  MMRCurrentRetailCleanPrice         71111 non-null  float64\n",
      " 18  PRIMEUNIT                          71111 non-null  object \n",
      " 19  AUCGUART                           71111 non-null  object \n",
      " 20  VehBCost                           71111 non-null  float64\n",
      " 21  IsOnlineSale                       71111 non-null  int64  \n",
      " 22  WarrantyCost                       71111 non-null  int64  \n",
      " 23  IsBadBuy                           71111 non-null  int64  \n",
      " 24  Num_Missing_Values                 71111 non-null  int64  \n",
      "dtypes: float64(9), int64(6), object(10)\n",
      "memory usage: 14.1+ MB\n"
     ]
    }
   ],
   "source": [
    "train_outprep_no_missing_fix = train_outprep.copy()\n",
    "\n",
    "Con_Vars = ['VehBCost']\n",
    "Cat_Vars = ['Color','Size','Transmission','WheelType','Nationality','TopThreeAmericanName']\n",
    "\n",
    "Con_imputer = SimpleImputer(strategy='median') \n",
    "Cat_imputer = SimpleImputer(strategy='most_frequent')   \n",
    "                                                     \n",
    "\n",
    "train_outprep_no_missing_fix[Con_Vars] = Con_imputer.fit_transform(train_outprep_no_missing_fix[Con_Vars])\n",
    "\n",
    "train_outprep_no_missing_fix[Cat_Vars] = Cat_imputer.fit_transform(train_outprep_no_missing_fix[Cat_Vars])\n",
    "\n",
    "print(\"DataFrame after Imputation:\")\n",
    "print(train_outprep_no_missing_fix)\n",
    "\n",
    "train_outprep_no_missing_fix.info()"
   ]
  },
  {
   "cell_type": "code",
   "execution_count": 36,
   "id": "affa640f",
   "metadata": {
    "execution": {
     "iopub.execute_input": "2025-05-09T07:57:09.017288Z",
     "iopub.status.busy": "2025-05-09T07:57:09.016448Z",
     "iopub.status.idle": "2025-05-09T07:57:09.095812Z",
     "shell.execute_reply": "2025-05-09T07:57:09.094860Z"
    },
    "papermill": {
     "duration": 0.095486,
     "end_time": "2025-05-09T07:57:09.097902",
     "exception": false,
     "start_time": "2025-05-09T07:57:09.002416",
     "status": "completed"
    },
    "tags": []
   },
   "outputs": [
    {
     "name": "stdout",
     "output_type": "stream",
     "text": [
      "Missing Values Report:\n",
      "                               Column  Missing Values  Percentage Missing\n",
      "0                             Auction               0                 0.0\n",
      "1                          VehicleAge               0                 0.0\n",
      "2                                Make               0                 0.0\n",
      "3                               Color               0                 0.0\n",
      "4                        Transmission               0                 0.0\n",
      "5                           WheelType               0                 0.0\n",
      "6                              VehOdo               0                 0.0\n",
      "7                         Nationality               0                 0.0\n",
      "8                                Size               0                 0.0\n",
      "9                TopThreeAmericanName               0                 0.0\n",
      "10  MMRAcquisitionAuctionAveragePrice               0                 0.0\n",
      "11    MMRAcquisitionAuctionCleanPrice               0                 0.0\n",
      "12   MMRAcquisitionRetailAveragePrice               0                 0.0\n",
      "13      MMRAcquisitonRetailCleanPrice               0                 0.0\n",
      "14      MMRCurrentAuctionAveragePrice               0                 0.0\n",
      "15        MMRCurrentAuctionCleanPrice               0                 0.0\n",
      "16       MMRCurrentRetailAveragePrice               0                 0.0\n",
      "17         MMRCurrentRetailCleanPrice               0                 0.0\n",
      "18                          PRIMEUNIT               0                 0.0\n",
      "19                           AUCGUART               0                 0.0\n",
      "20                           VehBCost               0                 0.0\n",
      "21                       IsOnlineSale               0                 0.0\n",
      "22                       WarrantyCost               0                 0.0\n",
      "23                           IsBadBuy               0                 0.0\n",
      "24                 Num_Missing_Values               0                 0.0\n"
     ]
    }
   ],
   "source": [
    "missing_values_report_ = pd.DataFrame({\n",
    "    'Column': train_outprep_no_missing_fix.columns,\n",
    "    'Missing Values': train_outprep_no_missing_fix.isnull().sum().values,\n",
    "    'Percentage Missing': train_outprep_no_missing_fix.isnull().mean().values * 100\n",
    "})\n",
    "\n",
    "print(\"Missing Values Report:\")\n",
    "print(missing_values_report_)"
   ]
  },
  {
   "cell_type": "code",
   "execution_count": 37,
   "id": "773f37a5",
   "metadata": {
    "execution": {
     "iopub.execute_input": "2025-05-09T07:57:09.125837Z",
     "iopub.status.busy": "2025-05-09T07:57:09.125477Z",
     "iopub.status.idle": "2025-05-09T07:57:09.139868Z",
     "shell.execute_reply": "2025-05-09T07:57:09.139032Z"
    },
    "papermill": {
     "duration": 0.030792,
     "end_time": "2025-05-09T07:57:09.142088",
     "exception": false,
     "start_time": "2025-05-09T07:57:09.111296",
     "status": "completed"
    },
    "tags": []
   },
   "outputs": [],
   "source": [
    "train_outprep_no_missing_fix = train_outprep_no_missing_fix.drop(columns=['Num_Missing_Values'])"
   ]
  },
  {
   "cell_type": "code",
   "execution_count": 38,
   "id": "66daa13e",
   "metadata": {
    "execution": {
     "iopub.execute_input": "2025-05-09T07:57:09.170345Z",
     "iopub.status.busy": "2025-05-09T07:57:09.169489Z",
     "iopub.status.idle": "2025-05-09T07:57:10.025704Z",
     "shell.execute_reply": "2025-05-09T07:57:10.024898Z"
    },
    "papermill": {
     "duration": 0.872431,
     "end_time": "2025-05-09T07:57:10.027913",
     "exception": false,
     "start_time": "2025-05-09T07:57:09.155482",
     "status": "completed"
    },
    "tags": []
   },
   "outputs": [],
   "source": [
    "train_outprep_no_missing_fix.to_csv('/kaggle/working/df_train_car.csv')"
   ]
  },
  {
   "cell_type": "code",
   "execution_count": 39,
   "id": "0f92a67a",
   "metadata": {
    "execution": {
     "iopub.execute_input": "2025-05-09T07:57:10.056164Z",
     "iopub.status.busy": "2025-05-09T07:57:10.055267Z",
     "iopub.status.idle": "2025-05-09T07:57:10.276985Z",
     "shell.execute_reply": "2025-05-09T07:57:10.275932Z"
    },
    "papermill": {
     "duration": 0.237955,
     "end_time": "2025-05-09T07:57:10.279175",
     "exception": false,
     "start_time": "2025-05-09T07:57:10.041220",
     "status": "completed"
    },
    "tags": []
   },
   "outputs": [
    {
     "data": {
      "text/html": [
       "<div>\n",
       "<style scoped>\n",
       "    .dataframe tbody tr th:only-of-type {\n",
       "        vertical-align: middle;\n",
       "    }\n",
       "\n",
       "    .dataframe tbody tr th {\n",
       "        vertical-align: top;\n",
       "    }\n",
       "\n",
       "    .dataframe thead th {\n",
       "        text-align: right;\n",
       "    }\n",
       "</style>\n",
       "<table border=\"1\" class=\"dataframe\">\n",
       "  <thead>\n",
       "    <tr style=\"text-align: right;\">\n",
       "      <th></th>\n",
       "      <th>RefId</th>\n",
       "      <th>Auction</th>\n",
       "      <th>VehicleAge</th>\n",
       "      <th>Make</th>\n",
       "      <th>Color</th>\n",
       "      <th>Transmission</th>\n",
       "      <th>WheelType</th>\n",
       "      <th>VehOdo</th>\n",
       "      <th>Nationality</th>\n",
       "      <th>Size</th>\n",
       "      <th>...</th>\n",
       "      <th>MMRCurrentAuctionAveragePrice</th>\n",
       "      <th>MMRCurrentAuctionCleanPrice</th>\n",
       "      <th>MMRCurrentRetailAveragePrice</th>\n",
       "      <th>MMRCurrentRetailCleanPrice</th>\n",
       "      <th>PRIMEUNIT</th>\n",
       "      <th>AUCGUART</th>\n",
       "      <th>VehBCost</th>\n",
       "      <th>IsOnlineSale</th>\n",
       "      <th>WarrantyCost</th>\n",
       "      <th>IsBadBuy</th>\n",
       "    </tr>\n",
       "  </thead>\n",
       "  <tbody>\n",
       "    <tr>\n",
       "      <th>0</th>\n",
       "      <td>1</td>\n",
       "      <td>ADESA</td>\n",
       "      <td>3</td>\n",
       "      <td>MAZDA</td>\n",
       "      <td>RED</td>\n",
       "      <td>AUTO</td>\n",
       "      <td>Alloy</td>\n",
       "      <td>89046</td>\n",
       "      <td>OTHER ASIAN</td>\n",
       "      <td>MEDIUM</td>\n",
       "      <td>...</td>\n",
       "      <td>7451.0</td>\n",
       "      <td>8552.0</td>\n",
       "      <td>11597.0</td>\n",
       "      <td>12409.0</td>\n",
       "      <td>unknown</td>\n",
       "      <td>unknown</td>\n",
       "      <td>7100.0</td>\n",
       "      <td>0</td>\n",
       "      <td>1113</td>\n",
       "      <td>0</td>\n",
       "    </tr>\n",
       "    <tr>\n",
       "      <th>1</th>\n",
       "      <td>2</td>\n",
       "      <td>ADESA</td>\n",
       "      <td>5</td>\n",
       "      <td>DODGE</td>\n",
       "      <td>WHITE</td>\n",
       "      <td>AUTO</td>\n",
       "      <td>Alloy</td>\n",
       "      <td>93593</td>\n",
       "      <td>AMERICAN</td>\n",
       "      <td>LARGE TRUCK</td>\n",
       "      <td>...</td>\n",
       "      <td>7456.0</td>\n",
       "      <td>9222.0</td>\n",
       "      <td>11374.0</td>\n",
       "      <td>12791.0</td>\n",
       "      <td>unknown</td>\n",
       "      <td>unknown</td>\n",
       "      <td>7600.0</td>\n",
       "      <td>0</td>\n",
       "      <td>1053</td>\n",
       "      <td>0</td>\n",
       "    </tr>\n",
       "    <tr>\n",
       "      <th>2</th>\n",
       "      <td>3</td>\n",
       "      <td>ADESA</td>\n",
       "      <td>4</td>\n",
       "      <td>DODGE</td>\n",
       "      <td>MAROON</td>\n",
       "      <td>AUTO</td>\n",
       "      <td>Covers</td>\n",
       "      <td>73807</td>\n",
       "      <td>AMERICAN</td>\n",
       "      <td>MEDIUM</td>\n",
       "      <td>...</td>\n",
       "      <td>4035.0</td>\n",
       "      <td>5557.0</td>\n",
       "      <td>7146.0</td>\n",
       "      <td>8702.0</td>\n",
       "      <td>unknown</td>\n",
       "      <td>unknown</td>\n",
       "      <td>4900.0</td>\n",
       "      <td>0</td>\n",
       "      <td>1389</td>\n",
       "      <td>0</td>\n",
       "    </tr>\n",
       "    <tr>\n",
       "      <th>3</th>\n",
       "      <td>4</td>\n",
       "      <td>ADESA</td>\n",
       "      <td>5</td>\n",
       "      <td>DODGE</td>\n",
       "      <td>SILVER</td>\n",
       "      <td>AUTO</td>\n",
       "      <td>Alloy</td>\n",
       "      <td>65617</td>\n",
       "      <td>AMERICAN</td>\n",
       "      <td>COMPACT</td>\n",
       "      <td>...</td>\n",
       "      <td>1844.0</td>\n",
       "      <td>2646.0</td>\n",
       "      <td>4375.0</td>\n",
       "      <td>5518.0</td>\n",
       "      <td>unknown</td>\n",
       "      <td>unknown</td>\n",
       "      <td>4100.0</td>\n",
       "      <td>0</td>\n",
       "      <td>630</td>\n",
       "      <td>0</td>\n",
       "    </tr>\n",
       "    <tr>\n",
       "      <th>4</th>\n",
       "      <td>5</td>\n",
       "      <td>ADESA</td>\n",
       "      <td>4</td>\n",
       "      <td>FORD</td>\n",
       "      <td>SILVER</td>\n",
       "      <td>MANUAL</td>\n",
       "      <td>Covers</td>\n",
       "      <td>69367</td>\n",
       "      <td>AMERICAN</td>\n",
       "      <td>COMPACT</td>\n",
       "      <td>...</td>\n",
       "      <td>3247.0</td>\n",
       "      <td>4384.0</td>\n",
       "      <td>6739.0</td>\n",
       "      <td>7911.0</td>\n",
       "      <td>unknown</td>\n",
       "      <td>unknown</td>\n",
       "      <td>4000.0</td>\n",
       "      <td>0</td>\n",
       "      <td>1020</td>\n",
       "      <td>0</td>\n",
       "    </tr>\n",
       "  </tbody>\n",
       "</table>\n",
       "<p>5 rows × 25 columns</p>\n",
       "</div>"
      ],
      "text/plain": [
       "   RefId Auction  VehicleAge   Make   Color Transmission WheelType  VehOdo  \\\n",
       "0      1   ADESA           3  MAZDA     RED         AUTO     Alloy   89046   \n",
       "1      2   ADESA           5  DODGE   WHITE         AUTO     Alloy   93593   \n",
       "2      3   ADESA           4  DODGE  MAROON         AUTO    Covers   73807   \n",
       "3      4   ADESA           5  DODGE  SILVER         AUTO     Alloy   65617   \n",
       "4      5   ADESA           4   FORD  SILVER       MANUAL    Covers   69367   \n",
       "\n",
       "   Nationality         Size  ... MMRCurrentAuctionAveragePrice  \\\n",
       "0  OTHER ASIAN       MEDIUM  ...                        7451.0   \n",
       "1     AMERICAN  LARGE TRUCK  ...                        7456.0   \n",
       "2     AMERICAN       MEDIUM  ...                        4035.0   \n",
       "3     AMERICAN      COMPACT  ...                        1844.0   \n",
       "4     AMERICAN      COMPACT  ...                        3247.0   \n",
       "\n",
       "   MMRCurrentAuctionCleanPrice  MMRCurrentRetailAveragePrice  \\\n",
       "0                       8552.0                       11597.0   \n",
       "1                       9222.0                       11374.0   \n",
       "2                       5557.0                        7146.0   \n",
       "3                       2646.0                        4375.0   \n",
       "4                       4384.0                        6739.0   \n",
       "\n",
       "   MMRCurrentRetailCleanPrice  PRIMEUNIT  AUCGUART  VehBCost  IsOnlineSale  \\\n",
       "0                     12409.0    unknown   unknown    7100.0             0   \n",
       "1                     12791.0    unknown   unknown    7600.0             0   \n",
       "2                      8702.0    unknown   unknown    4900.0             0   \n",
       "3                      5518.0    unknown   unknown    4100.0             0   \n",
       "4                      7911.0    unknown   unknown    4000.0             0   \n",
       "\n",
       "   WarrantyCost IsBadBuy  \n",
       "0          1113        0  \n",
       "1          1053        0  \n",
       "2          1389        0  \n",
       "3           630        0  \n",
       "4          1020        0  \n",
       "\n",
       "[5 rows x 25 columns]"
      ]
     },
     "execution_count": 39,
     "metadata": {},
     "output_type": "execute_result"
    }
   ],
   "source": [
    "train_FS = pd.read_csv('/kaggle/working/df_train_car.csv')\n",
    "train_FS.head()"
   ]
  },
  {
   "cell_type": "code",
   "execution_count": 40,
   "id": "a3edf3dc",
   "metadata": {
    "execution": {
     "iopub.execute_input": "2025-05-09T07:57:10.308204Z",
     "iopub.status.busy": "2025-05-09T07:57:10.307833Z",
     "iopub.status.idle": "2025-05-09T07:57:10.314734Z",
     "shell.execute_reply": "2025-05-09T07:57:10.313830Z"
    },
    "papermill": {
     "duration": 0.023863,
     "end_time": "2025-05-09T07:57:10.316939",
     "exception": false,
     "start_time": "2025-05-09T07:57:10.293076",
     "status": "completed"
    },
    "tags": []
   },
   "outputs": [
    {
     "data": {
      "text/plain": [
       "(71111, 24)"
      ]
     },
     "execution_count": 40,
     "metadata": {},
     "output_type": "execute_result"
    }
   ],
   "source": [
    "train_FS.set_index('RefId', inplace=True)\n",
    "train_FS.shape"
   ]
  },
  {
   "cell_type": "code",
   "execution_count": 41,
   "id": "3619de0b",
   "metadata": {
    "execution": {
     "iopub.execute_input": "2025-05-09T07:57:10.346559Z",
     "iopub.status.busy": "2025-05-09T07:57:10.345916Z",
     "iopub.status.idle": "2025-05-09T07:57:10.460661Z",
     "shell.execute_reply": "2025-05-09T07:57:10.459636Z"
    },
    "papermill": {
     "duration": 0.131949,
     "end_time": "2025-05-09T07:57:10.462856",
     "exception": false,
     "start_time": "2025-05-09T07:57:10.330907",
     "status": "completed"
    },
    "tags": []
   },
   "outputs": [
    {
     "name": "stdout",
     "output_type": "stream",
     "text": [
      "         VehicleAge         VehOdo  MMRAcquisitionAuctionAveragePrice  \\\n",
      "count  71111.000000   71111.000000                       71111.000000   \n",
      "mean       4.187496   71467.091927                        6147.683157   \n",
      "std        1.706322   14534.711434                        2287.094504   \n",
      "min        0.000000    4825.000000                         884.000000   \n",
      "25%        3.000000   61828.000000                        4332.000000   \n",
      "50%        4.000000   73310.000000                        6116.000000   \n",
      "75%        5.000000   82361.500000                        7745.000000   \n",
      "max        9.000000  115717.000000                       33543.000000   \n",
      "\n",
      "       MMRAcquisitionAuctionCleanPrice  MMRAcquisitionRetailAveragePrice  \\\n",
      "count                     71111.000000                      71111.000000   \n",
      "mean                       7402.776082                       8536.932486   \n",
      "std                        2511.513144                       2940.291579   \n",
      "min                        1076.000000                       1455.000000   \n",
      "25%                        5473.000000                       6361.000000   \n",
      "50%                        7329.000000                       8467.000000   \n",
      "75%                        9004.000000                      10631.000000   \n",
      "max                       36701.000000                      36726.000000   \n",
      "\n",
      "       MMRAcquisitonRetailCleanPrice  MMRCurrentAuctionAveragePrice  \\\n",
      "count                   71111.000000                   71111.000000   \n",
      "mean                     9903.245546                    6120.854439   \n",
      "std                      3126.974768                    2289.818064   \n",
      "min                      1662.000000                     369.000000   \n",
      "25%                      7557.000000                    4304.500000   \n",
      "50%                      9820.000000                    6063.000000   \n",
      "75%                     12070.000000                    7717.000000   \n",
      "max                     40137.000000                   33369.000000   \n",
      "\n",
      "       MMRCurrentAuctionCleanPrice  MMRCurrentRetailAveragePrice  \\\n",
      "count                 71111.000000                  71111.000000   \n",
      "mean                   7382.747901                   8770.926861   \n",
      "std                    2513.777553                   2917.992742   \n",
      "min                     494.000000                    899.000000   \n",
      "25%                    5449.000000                   6570.000000   \n",
      "50%                    7313.000000                   8725.000000   \n",
      "75%                    8988.000000                  10866.000000   \n",
      "max                   36478.000000                  36539.000000   \n",
      "\n",
      "       MMRCurrentRetailCleanPrice      VehBCost  IsOnlineSale  WarrantyCost  \\\n",
      "count                71111.000000  71111.000000  71111.000000  71111.000000   \n",
      "mean                 10145.625276   6704.579918      0.024792   1277.335279   \n",
      "std                   3106.253830   1723.164246      0.155492    597.677015   \n",
      "min                   1034.000000   1400.000000      0.000000    462.000000   \n",
      "25%                   7826.000000   5425.000000      0.000000    837.000000   \n",
      "50%                  10102.000000   6700.000000      0.000000   1169.000000   \n",
      "75%                  12290.000000   7875.000000      0.000000   1623.000000   \n",
      "max                  39896.000000  45469.000000      1.000000   7498.000000   \n",
      "\n",
      "           IsBadBuy  \n",
      "count  71111.000000  \n",
      "mean       0.123005  \n",
      "std        0.328445  \n",
      "min        0.000000  \n",
      "25%        0.000000  \n",
      "50%        0.000000  \n",
      "75%        0.000000  \n",
      "max        1.000000  \n",
      "                                   Skewness   Kurtosis\n",
      "VehicleAge                         0.386669  -0.212021\n",
      "VehOdo                            -0.448527  -0.216165\n",
      "MMRAcquisitionAuctionAveragePrice  0.345245  -0.036782\n",
      "MMRAcquisitionAuctionCleanPrice    0.432188   0.167938\n",
      "MMRAcquisitionRetailAveragePrice   0.203899  -0.333550\n",
      "MMRAcquisitonRetailCleanPrice      0.229327  -0.207107\n",
      "MMRCurrentAuctionAveragePrice      0.359107  -0.019073\n",
      "MMRCurrentAuctionCleanPrice        0.427630   0.152353\n",
      "MMRCurrentRetailAveragePrice       0.147195  -0.338871\n",
      "MMRCurrentRetailCleanPrice         0.181542  -0.204648\n",
      "VehBCost                           0.363120   3.227405\n",
      "IsOnlineSale                       6.112336  35.360647\n",
      "WarrantyCost                       2.065762   9.973609\n",
      "IsBadBuy                           2.295652   3.270016\n"
     ]
    }
   ],
   "source": [
    "Desc_Stats = train_FS.describe()\n",
    "\n",
    "continuous_columns_ = train_FS.select_dtypes(include=['float64', 'int64']).columns\n",
    "\n",
    "skewness_values = {}\n",
    "kurtosis_values = {}\n",
    "\n",
    "for column in continuous_columns_:\n",
    "    skewness_values[column] = skew(train_FS[column])\n",
    "    kurtosis_values[column] = kurtosis(train_FS[column])\n",
    "    \n",
    "skew_kurt_stats = pd.DataFrame({\n",
    "    'Skewness': skewness_values,\n",
    "    'Kurtosis': kurtosis_values\n",
    "})\n",
    "\n",
    "\n",
    "print(Desc_Stats)  \n",
    "print(skew_kurt_stats) "
   ]
  },
  {
   "cell_type": "code",
   "execution_count": 42,
   "id": "d275a27c",
   "metadata": {
    "execution": {
     "iopub.execute_input": "2025-05-09T07:57:10.492313Z",
     "iopub.status.busy": "2025-05-09T07:57:10.491280Z",
     "iopub.status.idle": "2025-05-09T07:58:35.053487Z",
     "shell.execute_reply": "2025-05-09T07:58:35.052471Z"
    },
    "papermill": {
     "duration": 84.592977,
     "end_time": "2025-05-09T07:58:35.069498",
     "exception": false,
     "start_time": "2025-05-09T07:57:10.476521",
     "status": "completed"
    },
    "tags": []
   },
   "outputs": [
    {
     "name": "stdout",
     "output_type": "stream",
     "text": [
      "VehBCost_cat_cm bin edges: [ -inf 4030. 4675. 5490. 6380.   inf]\n",
      "0: Count: 3551, Percentage: 4.99%\n",
      "1: Count: 5621, Percentage: 7.90%\n",
      "2: Count: 9306, Percentage: 13.09%\n",
      "3: Count: 12808, Percentage: 18.01%\n",
      "4: Count: 39825, Percentage: 56.00%\n",
      "\n",
      "\n",
      "WarrantyCost_cat_cm bin edges: [ -inf 1633. 1689. 1703. 2152.   inf]\n",
      "0: Count: 54492, Percentage: 76.63%\n",
      "1: Count: 1399, Percentage: 1.97%\n",
      "2: Count: 291, Percentage: 0.41%\n",
      "3: Count: 9163, Percentage: 12.89%\n",
      "4: Count: 5766, Percentage: 8.11%\n",
      "\n",
      "\n"
     ]
    },
    {
     "data": {
      "text/html": [
       "<div>\n",
       "<style scoped>\n",
       "    .dataframe tbody tr th:only-of-type {\n",
       "        vertical-align: middle;\n",
       "    }\n",
       "\n",
       "    .dataframe tbody tr th {\n",
       "        vertical-align: top;\n",
       "    }\n",
       "\n",
       "    .dataframe thead th {\n",
       "        text-align: right;\n",
       "    }\n",
       "</style>\n",
       "<table border=\"1\" class=\"dataframe\">\n",
       "  <thead>\n",
       "    <tr style=\"text-align: right;\">\n",
       "      <th></th>\n",
       "      <th>VehicleAge</th>\n",
       "      <th>VehOdo</th>\n",
       "      <th>MMRAcquisitionAuctionAveragePrice</th>\n",
       "      <th>MMRAcquisitionAuctionCleanPrice</th>\n",
       "      <th>MMRAcquisitionRetailAveragePrice</th>\n",
       "      <th>MMRAcquisitonRetailCleanPrice</th>\n",
       "      <th>MMRCurrentAuctionAveragePrice</th>\n",
       "      <th>MMRCurrentAuctionCleanPrice</th>\n",
       "      <th>MMRCurrentRetailAveragePrice</th>\n",
       "      <th>MMRCurrentRetailCleanPrice</th>\n",
       "      <th>IsOnlineSale</th>\n",
       "      <th>IsBadBuy</th>\n",
       "      <th>VehBCost_cat_cm</th>\n",
       "      <th>WarrantyCost_cat_cm</th>\n",
       "    </tr>\n",
       "  </thead>\n",
       "  <tbody>\n",
       "    <tr>\n",
       "      <th>count</th>\n",
       "      <td>71111.000000</td>\n",
       "      <td>71111.000000</td>\n",
       "      <td>71111.000000</td>\n",
       "      <td>71111.000000</td>\n",
       "      <td>71111.000000</td>\n",
       "      <td>71111.000000</td>\n",
       "      <td>71111.000000</td>\n",
       "      <td>71111.000000</td>\n",
       "      <td>71111.000000</td>\n",
       "      <td>71111.000000</td>\n",
       "      <td>71111.000000</td>\n",
       "      <td>71111.000000</td>\n",
       "      <td>71111.000000</td>\n",
       "      <td>71111.000000</td>\n",
       "    </tr>\n",
       "    <tr>\n",
       "      <th>mean</th>\n",
       "      <td>4.187496</td>\n",
       "      <td>71467.091927</td>\n",
       "      <td>6147.683157</td>\n",
       "      <td>7402.776082</td>\n",
       "      <td>8536.932486</td>\n",
       "      <td>9903.245546</td>\n",
       "      <td>6120.854439</td>\n",
       "      <td>7382.747901</td>\n",
       "      <td>8770.926861</td>\n",
       "      <td>10145.625276</td>\n",
       "      <td>0.024792</td>\n",
       "      <td>0.123005</td>\n",
       "      <td>3.121275</td>\n",
       "      <td>0.738761</td>\n",
       "    </tr>\n",
       "    <tr>\n",
       "      <th>std</th>\n",
       "      <td>1.706322</td>\n",
       "      <td>14534.711434</td>\n",
       "      <td>2287.094504</td>\n",
       "      <td>2511.513144</td>\n",
       "      <td>2940.291579</td>\n",
       "      <td>3126.974768</td>\n",
       "      <td>2289.818064</td>\n",
       "      <td>2513.777553</td>\n",
       "      <td>2917.992742</td>\n",
       "      <td>3106.253830</td>\n",
       "      <td>0.155492</td>\n",
       "      <td>0.328445</td>\n",
       "      <td>1.200760</td>\n",
       "      <td>1.395474</td>\n",
       "    </tr>\n",
       "    <tr>\n",
       "      <th>min</th>\n",
       "      <td>0.000000</td>\n",
       "      <td>4825.000000</td>\n",
       "      <td>884.000000</td>\n",
       "      <td>1076.000000</td>\n",
       "      <td>1455.000000</td>\n",
       "      <td>1662.000000</td>\n",
       "      <td>369.000000</td>\n",
       "      <td>494.000000</td>\n",
       "      <td>899.000000</td>\n",
       "      <td>1034.000000</td>\n",
       "      <td>0.000000</td>\n",
       "      <td>0.000000</td>\n",
       "      <td>0.000000</td>\n",
       "      <td>0.000000</td>\n",
       "    </tr>\n",
       "    <tr>\n",
       "      <th>25%</th>\n",
       "      <td>3.000000</td>\n",
       "      <td>61828.000000</td>\n",
       "      <td>4332.000000</td>\n",
       "      <td>5473.000000</td>\n",
       "      <td>6361.000000</td>\n",
       "      <td>7557.000000</td>\n",
       "      <td>4304.500000</td>\n",
       "      <td>5449.000000</td>\n",
       "      <td>6570.000000</td>\n",
       "      <td>7826.000000</td>\n",
       "      <td>0.000000</td>\n",
       "      <td>0.000000</td>\n",
       "      <td>2.000000</td>\n",
       "      <td>0.000000</td>\n",
       "    </tr>\n",
       "    <tr>\n",
       "      <th>50%</th>\n",
       "      <td>4.000000</td>\n",
       "      <td>73310.000000</td>\n",
       "      <td>6116.000000</td>\n",
       "      <td>7329.000000</td>\n",
       "      <td>8467.000000</td>\n",
       "      <td>9820.000000</td>\n",
       "      <td>6063.000000</td>\n",
       "      <td>7313.000000</td>\n",
       "      <td>8725.000000</td>\n",
       "      <td>10102.000000</td>\n",
       "      <td>0.000000</td>\n",
       "      <td>0.000000</td>\n",
       "      <td>4.000000</td>\n",
       "      <td>0.000000</td>\n",
       "    </tr>\n",
       "    <tr>\n",
       "      <th>75%</th>\n",
       "      <td>5.000000</td>\n",
       "      <td>82361.500000</td>\n",
       "      <td>7745.000000</td>\n",
       "      <td>9004.000000</td>\n",
       "      <td>10631.000000</td>\n",
       "      <td>12070.000000</td>\n",
       "      <td>7717.000000</td>\n",
       "      <td>8988.000000</td>\n",
       "      <td>10866.000000</td>\n",
       "      <td>12290.000000</td>\n",
       "      <td>0.000000</td>\n",
       "      <td>0.000000</td>\n",
       "      <td>4.000000</td>\n",
       "      <td>0.000000</td>\n",
       "    </tr>\n",
       "    <tr>\n",
       "      <th>max</th>\n",
       "      <td>9.000000</td>\n",
       "      <td>115717.000000</td>\n",
       "      <td>33543.000000</td>\n",
       "      <td>36701.000000</td>\n",
       "      <td>36726.000000</td>\n",
       "      <td>40137.000000</td>\n",
       "      <td>33369.000000</td>\n",
       "      <td>36478.000000</td>\n",
       "      <td>36539.000000</td>\n",
       "      <td>39896.000000</td>\n",
       "      <td>1.000000</td>\n",
       "      <td>1.000000</td>\n",
       "      <td>4.000000</td>\n",
       "      <td>4.000000</td>\n",
       "    </tr>\n",
       "  </tbody>\n",
       "</table>\n",
       "</div>"
      ],
      "text/plain": [
       "         VehicleAge         VehOdo  MMRAcquisitionAuctionAveragePrice  \\\n",
       "count  71111.000000   71111.000000                       71111.000000   \n",
       "mean       4.187496   71467.091927                        6147.683157   \n",
       "std        1.706322   14534.711434                        2287.094504   \n",
       "min        0.000000    4825.000000                         884.000000   \n",
       "25%        3.000000   61828.000000                        4332.000000   \n",
       "50%        4.000000   73310.000000                        6116.000000   \n",
       "75%        5.000000   82361.500000                        7745.000000   \n",
       "max        9.000000  115717.000000                       33543.000000   \n",
       "\n",
       "       MMRAcquisitionAuctionCleanPrice  MMRAcquisitionRetailAveragePrice  \\\n",
       "count                     71111.000000                      71111.000000   \n",
       "mean                       7402.776082                       8536.932486   \n",
       "std                        2511.513144                       2940.291579   \n",
       "min                        1076.000000                       1455.000000   \n",
       "25%                        5473.000000                       6361.000000   \n",
       "50%                        7329.000000                       8467.000000   \n",
       "75%                        9004.000000                      10631.000000   \n",
       "max                       36701.000000                      36726.000000   \n",
       "\n",
       "       MMRAcquisitonRetailCleanPrice  MMRCurrentAuctionAveragePrice  \\\n",
       "count                   71111.000000                   71111.000000   \n",
       "mean                     9903.245546                    6120.854439   \n",
       "std                      3126.974768                    2289.818064   \n",
       "min                      1662.000000                     369.000000   \n",
       "25%                      7557.000000                    4304.500000   \n",
       "50%                      9820.000000                    6063.000000   \n",
       "75%                     12070.000000                    7717.000000   \n",
       "max                     40137.000000                   33369.000000   \n",
       "\n",
       "       MMRCurrentAuctionCleanPrice  MMRCurrentRetailAveragePrice  \\\n",
       "count                 71111.000000                  71111.000000   \n",
       "mean                   7382.747901                   8770.926861   \n",
       "std                    2513.777553                   2917.992742   \n",
       "min                     494.000000                    899.000000   \n",
       "25%                    5449.000000                   6570.000000   \n",
       "50%                    7313.000000                   8725.000000   \n",
       "75%                    8988.000000                  10866.000000   \n",
       "max                   36478.000000                  36539.000000   \n",
       "\n",
       "       MMRCurrentRetailCleanPrice  IsOnlineSale      IsBadBuy  \\\n",
       "count                71111.000000  71111.000000  71111.000000   \n",
       "mean                 10145.625276      0.024792      0.123005   \n",
       "std                   3106.253830      0.155492      0.328445   \n",
       "min                   1034.000000      0.000000      0.000000   \n",
       "25%                   7826.000000      0.000000      0.000000   \n",
       "50%                  10102.000000      0.000000      0.000000   \n",
       "75%                  12290.000000      0.000000      0.000000   \n",
       "max                  39896.000000      1.000000      1.000000   \n",
       "\n",
       "       VehBCost_cat_cm  WarrantyCost_cat_cm  \n",
       "count     71111.000000         71111.000000  \n",
       "mean          3.121275             0.738761  \n",
       "std           1.200760             1.395474  \n",
       "min           0.000000             0.000000  \n",
       "25%           2.000000             0.000000  \n",
       "50%           4.000000             0.000000  \n",
       "75%           4.000000             0.000000  \n",
       "max           4.000000             4.000000  "
      ]
     },
     "execution_count": 42,
     "metadata": {},
     "output_type": "execute_result"
    }
   ],
   "source": [
    "chi_merge_list = ['VehBCost', 'WarrantyCost']\n",
    "\n",
    "trans_cm = cm.ChiMerge(max_intervals=5, min_intervals=1, decimal=3,output_dataframe=True)\n",
    "result_cm = trans_cm.fit_transform(train_FS[chi_merge_list], train_FS['IsBadBuy'].astype('int')) \n",
    "trans_cm.boundaries_\n",
    "\n",
    "boundaries_dict = {key: np.insert(boundaries, 0, -np.inf) for key, boundaries in trans_cm.boundaries_.items()}\n",
    "\n",
    "for key, boundaries in boundaries_dict.items():\n",
    "    column_name = f\"{key}_cat_cm\"\n",
    "    train_FS[column_name] = pd.cut(train_FS[key], bins=boundaries, labels=False, right=False)\n",
    "    \n",
    "    print(f'{column_name} bin edges:', boundaries)\n",
    "    \n",
    "    frequency_table(train_FS[column_name])\n",
    "    print(\"\\n\")\n",
    "\n",
    "train_FS = train_FS.drop(columns=['VehBCost', 'WarrantyCost'])\n",
    "\n",
    "train_FS.describe()"
   ]
  },
  {
   "cell_type": "code",
   "execution_count": 43,
   "id": "304eae18",
   "metadata": {
    "execution": {
     "iopub.execute_input": "2025-05-09T07:58:35.099505Z",
     "iopub.status.busy": "2025-05-09T07:58:35.098640Z",
     "iopub.status.idle": "2025-05-09T07:58:35.104533Z",
     "shell.execute_reply": "2025-05-09T07:58:35.103640Z"
    },
    "papermill": {
     "duration": 0.022923,
     "end_time": "2025-05-09T07:58:35.106445",
     "exception": false,
     "start_time": "2025-05-09T07:58:35.083522",
     "status": "completed"
    },
    "tags": []
   },
   "outputs": [
    {
     "data": {
      "text/plain": [
       "(71111, 24)"
      ]
     },
     "execution_count": 43,
     "metadata": {},
     "output_type": "execute_result"
    }
   ],
   "source": [
    "train_FS.shape"
   ]
  },
  {
   "cell_type": "code",
   "execution_count": 44,
   "id": "567e263c",
   "metadata": {
    "execution": {
     "iopub.execute_input": "2025-05-09T07:58:35.136646Z",
     "iopub.status.busy": "2025-05-09T07:58:35.135688Z",
     "iopub.status.idle": "2025-05-09T07:58:35.415881Z",
     "shell.execute_reply": "2025-05-09T07:58:35.414836Z"
    },
    "papermill": {
     "duration": 0.29738,
     "end_time": "2025-05-09T07:58:35.417931",
     "exception": false,
     "start_time": "2025-05-09T07:58:35.120551",
     "status": "completed"
    },
    "tags": []
   },
   "outputs": [
    {
     "data": {
      "text/plain": [
       "(71111, 64)"
      ]
     },
     "execution_count": 44,
     "metadata": {},
     "output_type": "execute_result"
    }
   ],
   "source": [
    "one_hot_encoder = OneHotEncoder(drop='first', handle_unknown='ignore', sparse_output=False)\n",
    "\n",
    "nominal_fields = [\"Auction\", \"Make\", \"Color\", \"Transmission\", \"WheelType\", \"Nationality\", \"Size\",\"TopThreeAmericanName\"]\n",
    "\n",
    "one_hot_encoded = one_hot_encoder.fit_transform(train_FS[nominal_fields])\n",
    "\n",
    "one_hot_encoded_FS = pd.DataFrame(one_hot_encoded, columns=one_hot_encoder.get_feature_names_out(nominal_fields))\n",
    "\n",
    "train_FS_ = train_FS.drop(columns=nominal_fields)\n",
    "\n",
    "encoded_FS = pd.concat([train_FS_.reset_index(drop=True), one_hot_encoded_FS.reset_index(drop=True)], axis=1)\n",
    "\n",
    "encoded_FS.shape"
   ]
  },
  {
   "cell_type": "code",
   "execution_count": 45,
   "id": "f7c0fefe",
   "metadata": {
    "execution": {
     "iopub.execute_input": "2025-05-09T07:58:35.448390Z",
     "iopub.status.busy": "2025-05-09T07:58:35.448047Z",
     "iopub.status.idle": "2025-05-09T07:58:35.473482Z",
     "shell.execute_reply": "2025-05-09T07:58:35.472469Z"
    },
    "papermill": {
     "duration": 0.043232,
     "end_time": "2025-05-09T07:58:35.475773",
     "exception": false,
     "start_time": "2025-05-09T07:58:35.432541",
     "status": "completed"
    },
    "tags": []
   },
   "outputs": [
    {
     "name": "stdout",
     "output_type": "stream",
     "text": [
      "<class 'pandas.core.frame.DataFrame'>\n",
      "RangeIndex: 71111 entries, 0 to 71110\n",
      "Data columns (total 64 columns):\n",
      " #   Column                             Non-Null Count  Dtype  \n",
      "---  ------                             --------------  -----  \n",
      " 0   VehicleAge                         71111 non-null  int64  \n",
      " 1   VehOdo                             71111 non-null  int64  \n",
      " 2   MMRAcquisitionAuctionAveragePrice  71111 non-null  float64\n",
      " 3   MMRAcquisitionAuctionCleanPrice    71111 non-null  float64\n",
      " 4   MMRAcquisitionRetailAveragePrice   71111 non-null  float64\n",
      " 5   MMRAcquisitonRetailCleanPrice      71111 non-null  float64\n",
      " 6   MMRCurrentAuctionAveragePrice      71111 non-null  float64\n",
      " 7   MMRCurrentAuctionCleanPrice        71111 non-null  float64\n",
      " 8   MMRCurrentRetailAveragePrice       71111 non-null  float64\n",
      " 9   MMRCurrentRetailCleanPrice         71111 non-null  float64\n",
      " 10  PRIMEUNIT                          71111 non-null  object \n",
      " 11  AUCGUART                           71111 non-null  object \n",
      " 12  IsOnlineSale                       71111 non-null  int64  \n",
      " 13  IsBadBuy                           71111 non-null  int64  \n",
      " 14  VehBCost_cat_cm                    71111 non-null  int64  \n",
      " 15  WarrantyCost_cat_cm                71111 non-null  int64  \n",
      " 16  Auction_MANHEIM                    71111 non-null  float64\n",
      " 17  Auction_OTHER                      71111 non-null  float64\n",
      " 18  Make_CHRYSLER                      71111 non-null  float64\n",
      " 19  Make_DODGE                         71111 non-null  float64\n",
      " 20  Make_FORD                          71111 non-null  float64\n",
      " 21  Make_HYUNDAI                       71111 non-null  float64\n",
      " 22  Make_JEEP                          71111 non-null  float64\n",
      " 23  Make_KIA                           71111 non-null  float64\n",
      " 24  Make_MAZDA                         71111 non-null  float64\n",
      " 25  Make_MERCURY                       71111 non-null  float64\n",
      " 26  Make_MITSUBISHI                    71111 non-null  float64\n",
      " 27  Make_NISSAN                        71111 non-null  float64\n",
      " 28  Make_Other                         71111 non-null  float64\n",
      " 29  Make_PONTIAC                       71111 non-null  float64\n",
      " 30  Make_SATURN                        71111 non-null  float64\n",
      " 31  Make_SUZUKI                        71111 non-null  float64\n",
      " 32  Make_TOYOTA                        71111 non-null  float64\n",
      " 33  Color_BLACK                        71111 non-null  float64\n",
      " 34  Color_BLUE                         71111 non-null  float64\n",
      " 35  Color_GOLD                         71111 non-null  float64\n",
      " 36  Color_GREEN                        71111 non-null  float64\n",
      " 37  Color_GREY                         71111 non-null  float64\n",
      " 38  Color_MAROON                       71111 non-null  float64\n",
      " 39  Color_Other                        71111 non-null  float64\n",
      " 40  Color_RED                          71111 non-null  float64\n",
      " 41  Color_SILVER                       71111 non-null  float64\n",
      " 42  Color_WHITE                        71111 non-null  float64\n",
      " 43  Transmission_MANUAL                71111 non-null  float64\n",
      " 44  Transmission_Manual                71111 non-null  float64\n",
      " 45  WheelType_Covers                   71111 non-null  float64\n",
      " 46  WheelType_Special                  71111 non-null  float64\n",
      " 47  Nationality_OTHER                  71111 non-null  float64\n",
      " 48  Nationality_OTHER ASIAN            71111 non-null  float64\n",
      " 49  Nationality_TOP LINE ASIAN         71111 non-null  float64\n",
      " 50  Size_CROSSOVER                     71111 non-null  float64\n",
      " 51  Size_LARGE                         71111 non-null  float64\n",
      " 52  Size_LARGE SUV                     71111 non-null  float64\n",
      " 53  Size_LARGE TRUCK                   71111 non-null  float64\n",
      " 54  Size_MEDIUM                        71111 non-null  float64\n",
      " 55  Size_MEDIUM SUV                    71111 non-null  float64\n",
      " 56  Size_SMALL SUV                     71111 non-null  float64\n",
      " 57  Size_SMALL TRUCK                   71111 non-null  float64\n",
      " 58  Size_SPECIALTY                     71111 non-null  float64\n",
      " 59  Size_SPORTS                        71111 non-null  float64\n",
      " 60  Size_VAN                           71111 non-null  float64\n",
      " 61  TopThreeAmericanName_FORD          71111 non-null  float64\n",
      " 62  TopThreeAmericanName_GM            71111 non-null  float64\n",
      " 63  TopThreeAmericanName_OTHER         71111 non-null  float64\n",
      "dtypes: float64(56), int64(6), object(2)\n",
      "memory usage: 34.7+ MB\n"
     ]
    }
   ],
   "source": [
    "encoded_FS.info()"
   ]
  },
  {
   "cell_type": "code",
   "execution_count": 46,
   "id": "07dc565d",
   "metadata": {
    "execution": {
     "iopub.execute_input": "2025-05-09T07:58:35.506730Z",
     "iopub.status.busy": "2025-05-09T07:58:35.506138Z",
     "iopub.status.idle": "2025-05-09T07:58:35.725752Z",
     "shell.execute_reply": "2025-05-09T07:58:35.724205Z"
    },
    "papermill": {
     "duration": 0.238017,
     "end_time": "2025-05-09T07:58:35.728452",
     "exception": false,
     "start_time": "2025-05-09T07:58:35.490435",
     "status": "completed"
    },
    "tags": []
   },
   "outputs": [
    {
     "data": {
      "text/plain": [
       "(71111, 64)"
      ]
     },
     "execution_count": 46,
     "metadata": {},
     "output_type": "execute_result"
    }
   ],
   "source": [
    "selected_features_FS = [col for col in encoded_FS.columns if col not in ['IsBadBuy', 'PRIMEUNIT', 'AUCGUART']]\n",
    "\n",
    "\n",
    "scaling_methods = ['min-max'] \n",
    "\n",
    "\n",
    "for feature in selected_features_FS:\n",
    "\n",
    "        min_max_scaler = MinMaxScaler()\n",
    "        encoded_FS[feature] = min_max_scaler.fit_transform(encoded_FS[[feature]])\n",
    "\n",
    "\n",
    "encoded_FS.shape"
   ]
  },
  {
   "cell_type": "code",
   "execution_count": 47,
   "id": "048c61ed",
   "metadata": {
    "execution": {
     "iopub.execute_input": "2025-05-09T07:58:35.767576Z",
     "iopub.status.busy": "2025-05-09T07:58:35.767222Z",
     "iopub.status.idle": "2025-05-09T07:58:38.963157Z",
     "shell.execute_reply": "2025-05-09T07:58:38.962125Z"
    },
    "papermill": {
     "duration": 3.214365,
     "end_time": "2025-05-09T07:58:38.965434",
     "exception": false,
     "start_time": "2025-05-09T07:58:35.751069",
     "status": "completed"
    },
    "tags": []
   },
   "outputs": [],
   "source": [
    "encoded_FS.to_csv('/kaggle/working/df_train_fs.csv')"
   ]
  },
  {
   "cell_type": "code",
   "execution_count": 48,
   "id": "3bcd3cff",
   "metadata": {
    "execution": {
     "iopub.execute_input": "2025-05-09T07:58:38.996404Z",
     "iopub.status.busy": "2025-05-09T07:58:38.996037Z",
     "iopub.status.idle": "2025-05-09T07:58:39.249117Z",
     "shell.execute_reply": "2025-05-09T07:58:39.248175Z"
    },
    "papermill": {
     "duration": 0.270945,
     "end_time": "2025-05-09T07:58:39.251171",
     "exception": false,
     "start_time": "2025-05-09T07:58:38.980226",
     "status": "completed"
    },
    "tags": []
   },
   "outputs": [
    {
     "data": {
      "text/html": [
       "<div>\n",
       "<style scoped>\n",
       "    .dataframe tbody tr th:only-of-type {\n",
       "        vertical-align: middle;\n",
       "    }\n",
       "\n",
       "    .dataframe tbody tr th {\n",
       "        vertical-align: top;\n",
       "    }\n",
       "\n",
       "    .dataframe thead th {\n",
       "        text-align: right;\n",
       "    }\n",
       "</style>\n",
       "<table border=\"1\" class=\"dataframe\">\n",
       "  <thead>\n",
       "    <tr style=\"text-align: right;\">\n",
       "      <th></th>\n",
       "      <th>RefId</th>\n",
       "      <th>Auction</th>\n",
       "      <th>VehicleAge</th>\n",
       "      <th>Make</th>\n",
       "      <th>Color</th>\n",
       "      <th>Transmission</th>\n",
       "      <th>WheelType</th>\n",
       "      <th>VehOdo</th>\n",
       "      <th>Nationality</th>\n",
       "      <th>Size</th>\n",
       "      <th>...</th>\n",
       "      <th>MMRCurrentAuctionAveragePrice</th>\n",
       "      <th>MMRCurrentAuctionCleanPrice</th>\n",
       "      <th>MMRCurrentRetailAveragePrice</th>\n",
       "      <th>MMRCurrentRetailCleanPrice</th>\n",
       "      <th>PRIMEUNIT</th>\n",
       "      <th>AUCGUART</th>\n",
       "      <th>VehBCost</th>\n",
       "      <th>IsOnlineSale</th>\n",
       "      <th>WarrantyCost</th>\n",
       "      <th>IsBadBuy</th>\n",
       "    </tr>\n",
       "  </thead>\n",
       "  <tbody>\n",
       "    <tr>\n",
       "      <th>0</th>\n",
       "      <td>1</td>\n",
       "      <td>ADESA</td>\n",
       "      <td>3</td>\n",
       "      <td>MAZDA</td>\n",
       "      <td>RED</td>\n",
       "      <td>AUTO</td>\n",
       "      <td>Alloy</td>\n",
       "      <td>89046</td>\n",
       "      <td>OTHER ASIAN</td>\n",
       "      <td>MEDIUM</td>\n",
       "      <td>...</td>\n",
       "      <td>7451.0</td>\n",
       "      <td>8552.0</td>\n",
       "      <td>11597.0</td>\n",
       "      <td>12409.0</td>\n",
       "      <td>unknown</td>\n",
       "      <td>unknown</td>\n",
       "      <td>7100.0</td>\n",
       "      <td>0</td>\n",
       "      <td>1113</td>\n",
       "      <td>0</td>\n",
       "    </tr>\n",
       "    <tr>\n",
       "      <th>1</th>\n",
       "      <td>2</td>\n",
       "      <td>ADESA</td>\n",
       "      <td>5</td>\n",
       "      <td>DODGE</td>\n",
       "      <td>WHITE</td>\n",
       "      <td>AUTO</td>\n",
       "      <td>Alloy</td>\n",
       "      <td>93593</td>\n",
       "      <td>AMERICAN</td>\n",
       "      <td>LARGE TRUCK</td>\n",
       "      <td>...</td>\n",
       "      <td>7456.0</td>\n",
       "      <td>9222.0</td>\n",
       "      <td>11374.0</td>\n",
       "      <td>12791.0</td>\n",
       "      <td>unknown</td>\n",
       "      <td>unknown</td>\n",
       "      <td>7600.0</td>\n",
       "      <td>0</td>\n",
       "      <td>1053</td>\n",
       "      <td>0</td>\n",
       "    </tr>\n",
       "    <tr>\n",
       "      <th>2</th>\n",
       "      <td>3</td>\n",
       "      <td>ADESA</td>\n",
       "      <td>4</td>\n",
       "      <td>DODGE</td>\n",
       "      <td>MAROON</td>\n",
       "      <td>AUTO</td>\n",
       "      <td>Covers</td>\n",
       "      <td>73807</td>\n",
       "      <td>AMERICAN</td>\n",
       "      <td>MEDIUM</td>\n",
       "      <td>...</td>\n",
       "      <td>4035.0</td>\n",
       "      <td>5557.0</td>\n",
       "      <td>7146.0</td>\n",
       "      <td>8702.0</td>\n",
       "      <td>unknown</td>\n",
       "      <td>unknown</td>\n",
       "      <td>4900.0</td>\n",
       "      <td>0</td>\n",
       "      <td>1389</td>\n",
       "      <td>0</td>\n",
       "    </tr>\n",
       "    <tr>\n",
       "      <th>3</th>\n",
       "      <td>4</td>\n",
       "      <td>ADESA</td>\n",
       "      <td>5</td>\n",
       "      <td>DODGE</td>\n",
       "      <td>SILVER</td>\n",
       "      <td>AUTO</td>\n",
       "      <td>Alloy</td>\n",
       "      <td>65617</td>\n",
       "      <td>AMERICAN</td>\n",
       "      <td>COMPACT</td>\n",
       "      <td>...</td>\n",
       "      <td>1844.0</td>\n",
       "      <td>2646.0</td>\n",
       "      <td>4375.0</td>\n",
       "      <td>5518.0</td>\n",
       "      <td>unknown</td>\n",
       "      <td>unknown</td>\n",
       "      <td>4100.0</td>\n",
       "      <td>0</td>\n",
       "      <td>630</td>\n",
       "      <td>0</td>\n",
       "    </tr>\n",
       "    <tr>\n",
       "      <th>4</th>\n",
       "      <td>5</td>\n",
       "      <td>ADESA</td>\n",
       "      <td>4</td>\n",
       "      <td>FORD</td>\n",
       "      <td>SILVER</td>\n",
       "      <td>MANUAL</td>\n",
       "      <td>Covers</td>\n",
       "      <td>69367</td>\n",
       "      <td>AMERICAN</td>\n",
       "      <td>COMPACT</td>\n",
       "      <td>...</td>\n",
       "      <td>3247.0</td>\n",
       "      <td>4384.0</td>\n",
       "      <td>6739.0</td>\n",
       "      <td>7911.0</td>\n",
       "      <td>unknown</td>\n",
       "      <td>unknown</td>\n",
       "      <td>4000.0</td>\n",
       "      <td>0</td>\n",
       "      <td>1020</td>\n",
       "      <td>0</td>\n",
       "    </tr>\n",
       "  </tbody>\n",
       "</table>\n",
       "<p>5 rows × 25 columns</p>\n",
       "</div>"
      ],
      "text/plain": [
       "   RefId Auction  VehicleAge   Make   Color Transmission WheelType  VehOdo  \\\n",
       "0      1   ADESA           3  MAZDA     RED         AUTO     Alloy   89046   \n",
       "1      2   ADESA           5  DODGE   WHITE         AUTO     Alloy   93593   \n",
       "2      3   ADESA           4  DODGE  MAROON         AUTO    Covers   73807   \n",
       "3      4   ADESA           5  DODGE  SILVER         AUTO     Alloy   65617   \n",
       "4      5   ADESA           4   FORD  SILVER       MANUAL    Covers   69367   \n",
       "\n",
       "   Nationality         Size  ... MMRCurrentAuctionAveragePrice  \\\n",
       "0  OTHER ASIAN       MEDIUM  ...                        7451.0   \n",
       "1     AMERICAN  LARGE TRUCK  ...                        7456.0   \n",
       "2     AMERICAN       MEDIUM  ...                        4035.0   \n",
       "3     AMERICAN      COMPACT  ...                        1844.0   \n",
       "4     AMERICAN      COMPACT  ...                        3247.0   \n",
       "\n",
       "   MMRCurrentAuctionCleanPrice  MMRCurrentRetailAveragePrice  \\\n",
       "0                       8552.0                       11597.0   \n",
       "1                       9222.0                       11374.0   \n",
       "2                       5557.0                        7146.0   \n",
       "3                       2646.0                        4375.0   \n",
       "4                       4384.0                        6739.0   \n",
       "\n",
       "   MMRCurrentRetailCleanPrice  PRIMEUNIT  AUCGUART  VehBCost  IsOnlineSale  \\\n",
       "0                     12409.0    unknown   unknown    7100.0             0   \n",
       "1                     12791.0    unknown   unknown    7600.0             0   \n",
       "2                      8702.0    unknown   unknown    4900.0             0   \n",
       "3                      5518.0    unknown   unknown    4100.0             0   \n",
       "4                      7911.0    unknown   unknown    4000.0             0   \n",
       "\n",
       "   WarrantyCost IsBadBuy  \n",
       "0          1113        0  \n",
       "1          1053        0  \n",
       "2          1389        0  \n",
       "3           630        0  \n",
       "4          1020        0  \n",
       "\n",
       "[5 rows x 25 columns]"
      ]
     },
     "execution_count": 48,
     "metadata": {},
     "output_type": "execute_result"
    }
   ],
   "source": [
    "train_FE = pd.read_csv('/kaggle/working/df_train_car.csv')\n",
    "train_FE.head()"
   ]
  },
  {
   "cell_type": "code",
   "execution_count": 49,
   "id": "dca373f7",
   "metadata": {
    "execution": {
     "iopub.execute_input": "2025-05-09T07:58:39.282616Z",
     "iopub.status.busy": "2025-05-09T07:58:39.282282Z",
     "iopub.status.idle": "2025-05-09T07:58:39.289105Z",
     "shell.execute_reply": "2025-05-09T07:58:39.288148Z"
    },
    "papermill": {
     "duration": 0.02472,
     "end_time": "2025-05-09T07:58:39.291034",
     "exception": false,
     "start_time": "2025-05-09T07:58:39.266314",
     "status": "completed"
    },
    "tags": []
   },
   "outputs": [
    {
     "data": {
      "text/plain": [
       "(71111, 24)"
      ]
     },
     "execution_count": 49,
     "metadata": {},
     "output_type": "execute_result"
    }
   ],
   "source": [
    "train_FE.set_index('RefId', inplace=True)\n",
    "train_FE.shape"
   ]
  },
  {
   "cell_type": "code",
   "execution_count": 50,
   "id": "2a5f3036",
   "metadata": {
    "execution": {
     "iopub.execute_input": "2025-05-09T07:58:39.323553Z",
     "iopub.status.busy": "2025-05-09T07:58:39.322906Z",
     "iopub.status.idle": "2025-05-09T07:58:40.594321Z",
     "shell.execute_reply": "2025-05-09T07:58:40.593369Z"
    },
    "papermill": {
     "duration": 1.290339,
     "end_time": "2025-05-09T07:58:40.596771",
     "exception": false,
     "start_time": "2025-05-09T07:58:39.306432",
     "status": "completed"
    },
    "tags": []
   },
   "outputs": [
    {
     "name": "stdout",
     "output_type": "stream",
     "text": [
      "Lambda for VehBCost: 0.5898608157722153\n"
     ]
    },
    {
     "data": {
      "image/png": "[encoded data removed]",
      "text/plain": [
       "<Figure size 700x300 with 2 Axes>"
      ]
     },
     "metadata": {},
     "output_type": "display_data"
    },
    {
     "name": "stdout",
     "output_type": "stream",
     "text": [
      "Lambda for WarrantyCost: -0.07014997443909862\n"
     ]
    },
    {
     "data": {
      "image/png": "[encoded data removed]",
      "text/plain": [
       "<Figure size 700x300 with 2 Axes>"
      ]
     },
     "metadata": {},
     "output_type": "display_data"
    },
    {
     "name": "stdout",
     "output_type": "stream",
     "text": [
      "\n",
      "\n",
      "      Auction  VehicleAge       Make   Color Transmission WheelType  VehOdo  \\\n",
      "RefId                                                                         \n",
      "1       ADESA           3      MAZDA     RED         AUTO     Alloy   89046   \n",
      "2       ADESA           5      DODGE   WHITE         AUTO     Alloy   93593   \n",
      "3       ADESA           4      DODGE  MAROON         AUTO    Covers   73807   \n",
      "4       ADESA           5      DODGE  SILVER         AUTO     Alloy   65617   \n",
      "5       ADESA           4       FORD  SILVER       MANUAL    Covers   69367   \n",
      "...       ...         ...        ...     ...          ...       ...     ...   \n",
      "73010   ADESA           8    MERCURY   BLACK         AUTO     Alloy   45234   \n",
      "73011   ADESA           2  CHEVROLET  SILVER         AUTO     Alloy   71759   \n",
      "73012   ADESA           4       JEEP  SILVER         AUTO     Alloy   88500   \n",
      "73013   ADESA           3  CHEVROLET   WHITE         AUTO     Alloy   79554   \n",
      "73014   ADESA           3      MAZDA  SILVER         AUTO     Alloy   66855   \n",
      "\n",
      "       Nationality         Size TopThreeAmericanName  ...  \\\n",
      "RefId                                                 ...   \n",
      "1      OTHER ASIAN       MEDIUM                OTHER  ...   \n",
      "2         AMERICAN  LARGE TRUCK             CHRYSLER  ...   \n",
      "3         AMERICAN       MEDIUM             CHRYSLER  ...   \n",
      "4         AMERICAN      COMPACT             CHRYSLER  ...   \n",
      "5         AMERICAN      COMPACT                 FORD  ...   \n",
      "...            ...          ...                  ...  ...   \n",
      "73010     AMERICAN       MEDIUM                 FORD  ...   \n",
      "73011     AMERICAN       MEDIUM                   GM  ...   \n",
      "73012     AMERICAN   MEDIUM SUV             CHRYSLER  ...   \n",
      "73013     AMERICAN        LARGE                   GM  ...   \n",
      "73014  OTHER ASIAN       MEDIUM                OTHER  ...   \n",
      "\n",
      "       MMRCurrentAuctionAveragePrice  MMRCurrentAuctionCleanPrice  \\\n",
      "RefId                                                               \n",
      "1                             7451.0                       8552.0   \n",
      "2                             7456.0                       9222.0   \n",
      "3                             4035.0                       5557.0   \n",
      "4                             1844.0                       2646.0   \n",
      "5                             3247.0                       4384.0   \n",
      "...                              ...                          ...   \n",
      "73010                         2190.0                       3055.0   \n",
      "73011                         6785.0                       8132.0   \n",
      "73012                         8375.0                       9802.0   \n",
      "73013                         6590.0                       7684.0   \n",
      "73014                         7730.0                       9102.0   \n",
      "\n",
      "       MMRCurrentRetailAveragePrice  MMRCurrentRetailCleanPrice  PRIMEUNIT  \\\n",
      "RefId                                                                        \n",
      "1                           11597.0                     12409.0    unknown   \n",
      "2                           11374.0                     12791.0    unknown   \n",
      "3                            7146.0                      8702.0    unknown   \n",
      "4                            4375.0                      5518.0    unknown   \n",
      "5                            6739.0                      7911.0    unknown   \n",
      "...                             ...                         ...        ...   \n",
      "73010                        4836.0                      5937.0    unknown   \n",
      "73011                       10151.0                     11652.0    unknown   \n",
      "73012                       11831.0                     14402.0    unknown   \n",
      "73013                       10099.0                     11228.0    unknown   \n",
      "73014                       11954.0                     13246.0    unknown   \n",
      "\n",
      "       AUCGUART  IsOnlineSale  IsBadBuy VehBCost_transformed  \\\n",
      "RefId                                                          \n",
      "1       unknown             0         0           315.229937   \n",
      "2       unknown             0         0           328.210768   \n",
      "3       unknown             0         0           252.959870   \n",
      "4       unknown             0         0           227.544519   \n",
      "5       unknown             0         0           224.229792   \n",
      "...         ...           ...       ...                  ...   \n",
      "73010   unknown             0         1           230.826249   \n",
      "73011   unknown             0         0           290.877323   \n",
      "73012   unknown             0         0           343.333911   \n",
      "73013   unknown             0         0           312.589298   \n",
      "73014   unknown             0         0           338.344911   \n",
      "\n",
      "      WarrantyCost_transformed  \n",
      "RefId                           \n",
      "1                     5.540302  \n",
      "2                     5.506358  \n",
      "3                     5.674684  \n",
      "4                     5.185350  \n",
      "5                     5.486795  \n",
      "...                        ...  \n",
      "73010                 5.470278  \n",
      "73011                 5.497548  \n",
      "73012                 5.859018  \n",
      "73013                 5.883660  \n",
      "73014                 5.640748  \n",
      "\n",
      "[71111 rows x 24 columns]\n"
     ]
    }
   ],
   "source": [
    "selected_features_FE = ['VehBCost', 'WarrantyCost']\n",
    "\n",
    "for feature in selected_features_FE:\n",
    "\n",
    "    transformer = PowerTransformer(method='box-cox', standardize=False)\n",
    "\n",
    "    train_FE[f\"{feature}_transformed\"] = transformer.fit_transform(train_FE[[feature]])\n",
    "\n",
    "    lambda_value = transformer.lambdas_[0]\n",
    "    print(f\"Lambda for {feature}: {lambda_value}\")\n",
    "    \n",
    "    plt.figure(figsize=(7, 3))\n",
    "\n",
    "    plt.subplot(1, 2, 1)\n",
    "    plt.hist(train_FE[feature], bins=30, color='blue', alpha=0.7)\n",
    "    plt.title(f'Original {feature} Histogram')\n",
    "\n",
    "    plt.subplot(1, 2, 2)\n",
    "    plt.hist(train_FE[f\"{feature}_transformed\"], bins=30, color='green', alpha=0.7)\n",
    "    plt.title(f'Transformed {feature} Histogram')\n",
    "\n",
    "    plt.tight_layout()\n",
    "    plt.show()\n",
    "\n",
    "train_FE = train_FE.drop(columns=['VehBCost', 'WarrantyCost'])\n",
    "\n",
    "print('\\n')\n",
    "print(train_FE)"
   ]
  },
  {
   "cell_type": "code",
   "execution_count": 51,
   "id": "2cb45dcb",
   "metadata": {
    "execution": {
     "iopub.execute_input": "2025-05-09T07:58:40.632617Z",
     "iopub.status.busy": "2025-05-09T07:58:40.631747Z",
     "iopub.status.idle": "2025-05-09T07:58:40.913385Z",
     "shell.execute_reply": "2025-05-09T07:58:40.912338Z"
    },
    "papermill": {
     "duration": 0.302114,
     "end_time": "2025-05-09T07:58:40.915400",
     "exception": false,
     "start_time": "2025-05-09T07:58:40.613286",
     "status": "completed"
    },
    "tags": []
   },
   "outputs": [
    {
     "data": {
      "text/plain": [
       "(71111, 64)"
      ]
     },
     "execution_count": 51,
     "metadata": {},
     "output_type": "execute_result"
    }
   ],
   "source": [
    "one_hot_encoder = OneHotEncoder(drop='first', handle_unknown='ignore', sparse_output=False)\n",
    "\n",
    "nominal_fields = [\"Auction\", \"Make\", \"Color\", \"Transmission\", \"WheelType\", \"Nationality\", \"Size\",\"TopThreeAmericanName\"]\n",
    "\n",
    "one_hot_encoded_FE = one_hot_encoder.fit_transform(train_FE[nominal_fields])\n",
    "\n",
    "one_hot_encoded_FE = pd.DataFrame(one_hot_encoded_FE, columns=one_hot_encoder.get_feature_names_out(nominal_fields))\n",
    "\n",
    "train_FE_ = train_FE.drop(columns=nominal_fields)\n",
    "\n",
    "encoded_FE = pd.concat([train_FE_.reset_index(drop=True), one_hot_encoded_FE.reset_index(drop=True)], axis=1)\n",
    "encoded_FE.shape"
   ]
  },
  {
   "cell_type": "code",
   "execution_count": 52,
   "id": "40490cc4",
   "metadata": {
    "execution": {
     "iopub.execute_input": "2025-05-09T07:58:40.949565Z",
     "iopub.status.busy": "2025-05-09T07:58:40.949222Z",
     "iopub.status.idle": "2025-05-09T07:58:41.153366Z",
     "shell.execute_reply": "2025-05-09T07:58:41.152394Z"
    },
    "papermill": {
     "duration": 0.223908,
     "end_time": "2025-05-09T07:58:41.155588",
     "exception": false,
     "start_time": "2025-05-09T07:58:40.931680",
     "status": "completed"
    },
    "tags": []
   },
   "outputs": [
    {
     "data": {
      "text/plain": [
       "(71111, 64)"
      ]
     },
     "execution_count": 52,
     "metadata": {},
     "output_type": "execute_result"
    }
   ],
   "source": [
    "selected_features_FE = [col for col in encoded_FE.columns if col not in ['IsBadBuy', 'PRIMEUNIT', 'AUCGUART']]\n",
    "\n",
    "\n",
    "scaling_methods = ['z-score'] \n",
    "\n",
    "\n",
    "for feature in selected_features_FE:\n",
    "\n",
    "        z_score_scaler = StandardScaler()\n",
    "        encoded_FE[feature] = z_score_scaler.fit_transform(encoded_FE[[feature]])\n",
    "\n",
    "encoded_FE.shape"
   ]
  },
  {
   "cell_type": "code",
   "execution_count": 53,
   "id": "2cd5e077",
   "metadata": {
    "execution": {
     "iopub.execute_input": "2025-05-09T07:58:41.191637Z",
     "iopub.status.busy": "2025-05-09T07:58:41.190713Z",
     "iopub.status.idle": "2025-05-09T07:58:48.430259Z",
     "shell.execute_reply": "2025-05-09T07:58:48.429342Z"
    },
    "papermill": {
     "duration": 7.259498,
     "end_time": "2025-05-09T07:58:48.432527",
     "exception": false,
     "start_time": "2025-05-09T07:58:41.173029",
     "status": "completed"
    },
    "tags": []
   },
   "outputs": [],
   "source": [
    "encoded_FE.to_csv('/kaggle/working/encoded_FE.csv')"
   ]
  }
 ],
 "metadata": {
  "kaggle": {
   "accelerator": "none",
   "dataSources": [
    {
     "databundleVersionId": 29456,
     "sourceId": 2564,
     "sourceType": "competition"
    }
   ],
   "dockerImageVersionId": 30673,
   "isGpuEnabled": false,
   "isInternetEnabled": true,
   "language": "python",
   "sourceType": "notebook"
  },
  "kernelspec": {
   "display_name": "Python 3",
   "language": "python",
   "name": "python3"
  },
  "language_info": {
   "codemirror_mode": {
    "name": "ipython",
    "version": 3
   },
   "file_extension": ".py",
   "mimetype": "text/x-python",
   "name": "python",
   "nbconvert_exporter": "python",
   "pygments_lexer": "ipython3",
   "version": "3.10.13"
  },
  "papermill": {
   "default_parameters": {},
   "duration": 130.310058,
   "end_time": "2025-05-09T07:58:49.271039",
   "environment_variables": {},
   "exception": null,
   "input_path": "__notebook__.ipynb",
   "output_path": "__notebook__.ipynb",
   "parameters": {},
   "start_time": "2025-05-09T07:56:38.960981",
   "version": "2.5.0"
  }
 },
 "nbformat": 4,
 "nbformat_minor": 5
}
